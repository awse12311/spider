{
 "cells": [
  {
   "cell_type": "code",
   "execution_count": null,
   "metadata": {
    "vscode": {
     "languageId": "javascript"
    }
   },
   "outputs": [],
   "source": [
    "var fso = new ActiveXObject(\"Scripting.FileSystemObject\");\n",
    "var xml1Path = \"C:\\\\Path\\\\To\\\\file1.xml\";\n",
    "var xml2Path = \"C:\\\\Path\\\\To\\\\file2.xml\";\n",
    "var outputPath = \"C:\\\\Path\\\\To\\\\merged.xml\";\n",
    "\n",
    "// 加載 XML 文件\n",
    "var xml1 = loadXML(xml1Path);\n",
    "var xml2 = loadXML(xml2Path);\n",
    "\n",
    "// 合併 XML\n",
    "var mergedXML = mergeXML(xml1, xml2);\n",
    "\n",
    "// 保存合併後的 XML\n",
    "saveXML(mergedXML, outputPath);\n",
    "\n",
    "function loadXML(filePath) {\n",
    "    var xmlDoc = new ActiveXObject(\"Msxml2.DOMDocument.6.0\");\n",
    "    xmlDoc.async = false;\n",
    "    xmlDoc.load(filePath);\n",
    "    if (xmlDoc.parseError.errorCode != 0) {\n",
    "        var myErr = xmlDoc.parseError;\n",
    "        WScript.Echo(\"Error loading XML: \" + myErr.reason);\n",
    "        WScript.Quit(1);\n",
    "    }\n",
    "    return xmlDoc;\n",
    "}\n",
    "\n",
    "function mergeXML(xml1, xml2) {\n",
    "    var root1 = xml1.documentElement;\n",
    "    var root2 = xml2.documentElement;\n",
    "\n",
    "    var files2 = root2.getElementsByTagName(\"File\");\n",
    "    for (var i = 0; i < files2.length; i++) {\n",
    "        var importedNode = xml1.importNode(files2[i], true);\n",
    "        root1.appendChild(importedNode);\n",
    "    }\n",
    "\n",
    "    return xml1;\n",
    "}\n",
    "\n",
    "function saveXML(xmlDoc, filePath) {\n",
    "    var xml = xmlDoc.xml;\n",
    "    var file = fso.CreateTextFile(filePath, true);\n",
    "    file.WriteLine(xml);\n",
    "    file.Close();\n",
    "    WScript.Echo(\"Merged XML saved to: \" + filePath);\n",
    "}\n"
   ]
  }
 ],
 "metadata": {
  "language_info": {
   "name": "python"
  }
 },
 "nbformat": 4,
 "nbformat_minor": 2
}
