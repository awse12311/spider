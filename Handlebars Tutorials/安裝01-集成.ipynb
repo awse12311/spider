{
 "cells": [
  {
   "cell_type": "markdown",
   "metadata": {},
   "source": [
    "# 集成\n",
    "以下软件包在不同的环境中集成了 Handlebars。这些软件包 并非 由 Handlebars 团队负责。\n",
    "\n",
    "有多个 Webpack 插件，可让你在 Webpack 环境中使用 Handlebars。\n",
    "\n",
    "# Webpack: handlebars-loader\n",
    "handlebars-loader (opens new window)允许你导入 预编译 模板。只需 将你的 handlebars-template 写入 template.handlebars 文件中，然后使用\n",
    "```js\n",
    "const compiledTemplate = require(\"./template.handlebars\");\n",
    "```\n",
    "或是\n",
    "```js\n",
    "import compiledTemplate from \"./template.handlebars\";\n",
    "```\n",
    "# Webpack: handlebars-webpack-plugin\n",
    "handlebars-webpack-plugin (opens new window)使用 Handlebars 构建你的静态 HTML 页面\n",
    "\n",
    "# Webpack: html-bundler-webpack-plugin\n",
    "html-bundler-webpack-plugin (opens new window)支持使用包括 Handlebars (opens new window)在内的几种模板引擎来渲染模板，并将样式和脚本打包到生成的 HTML 文件中。\n",
    "\n",
    "# Babel: handlebars-inline-precompile\n",
    "babel-plugin-handlebars-inline-precompile (opens new window)提 供了预编译的 Handlebars 模板，这些模板在 JavaScript 源代码中作为模板文本提供：\n",
    "\n",
    "```js\n",
    "import hbs from \"handlebars-inline-precompile\";\n",
    "const compiledTemplate = hbs`{{name}}`;\n",
    "```\n",
    "\n",
    "请参阅包文档以获取设置说明。\n",
    "\n",
    "# Browserify: hbsfy\n",
    "hbsfy (opens new window)包可让你在浏览器中导入预编译的模板环境：\n",
    "```js\n",
    "const compiledTemplate = require(\"./template.handlebars\");\n",
    "```\n",
    "# 包：parcel-plugin-handlebars\n",
    "这里有一个较老的插件包： https://www.npmjs.com/package/parcel-plugin-handlebars\n",
    "\n",
    "但是你应该使用这些 forks 里面的其中一个，因为它们较新： https://www.npmjs.com/search?q=parcel-plugin-handlebars\n",
    "\n",
    "最新的一个包是： https://www.npmjs.com/package/@inventory/parcel-plugin-handlebars\n",
    "\n",
    "# 包：parcel-plugin-handlebars-precompile\n",
    "TODO: 在此填写\n",
    "\n",
    "https://www.npmjs.com/package/parcel-plugin-handlebars-precompile"
   ]
  }
 ],
 "metadata": {
  "language_info": {
   "name": "python"
  }
 },
 "nbformat": 4,
 "nbformat_minor": 2
}
