{
 "cells": [
  {
   "cell_type": "markdown",
   "metadata": {},
   "source": [
    "# 什么是 Handlebars？\n",
    "\n",
    "Handlebars 是一种简单的 模板语言。\n",
    "\n",
    "它使用模板和输入对象来生成 HTML 或其他文本格式。Handlebars 模板看起来像常规的文本，但是它带有嵌入式的 Handlebars 表达式 。\n",
    "\n",
    "Handlebars 表达式是一个 {{，一些内容，后跟一个 }}。执行模板时，这些表达式会被输入对象中的值所替换。"
   ]
  },
  {
   "cell_type": "code",
   "execution_count": null,
   "metadata": {
    "vscode": {
     "languageId": "html"
    }
   },
   "outputs": [],
   "source": [
    "<p>{{firstname}} {{lastname}}</p>\n"
   ]
  },
  {
   "cell_type": "code",
   "execution_count": null,
   "metadata": {
    "vscode": {
     "languageId": "javascript"
    }
   },
   "outputs": [],
   "source": [
    "Handlebars.registerHelper('loud', function(string) {\n",
    "    return string.toUpperCase()\n",
    "});"
   ]
  },
  {
   "cell_type": "markdown",
   "metadata": {},
   "source": [
    "#### input\n",
    "`{\n",
    "  firstname: \"Yehuda\",\n",
    "  lastname: \"Katz\",\n",
    "}`\n",
    "\n",
    "#### output"
   ]
  },
  {
   "cell_type": "code",
   "execution_count": null,
   "metadata": {
    "vscode": {
     "languageId": "html"
    }
   },
   "outputs": [],
   "source": [
    "<p>Yehuda Katz</p>"
   ]
  },
  {
   "cell_type": "markdown",
   "metadata": {},
   "source": [
    "A handlebars expression is a {{, some contents, followed by a }}. When the template is executed, these expressions are replaced with values from an input object."
   ]
  },
  {
   "cell_type": "markdown",
   "metadata": {},
   "source": [
    "# 安装\n",
    "----\n",
    "测试 Handlebars 的最快方法是使用 CDN 加载它并将其嵌入 HTML 文件中"
   ]
  },
  {
   "cell_type": "code",
   "execution_count": null,
   "metadata": {
    "vscode": {
     "languageId": "html"
    }
   },
   "outputs": [],
   "source": [
    "<!-- Include Handlebars from a CDN -->\n",
    "<script src=\"https://cdn.jsdelivr.net/npm/handlebars@latest/dist/handlebars.js\"></script>\n",
    "<script>\n",
    "  // compile the template\n",
    "  var template = Handlebars.compile(\"Handlebars <b>{{doesWhat}}</b>\");\n",
    "  // execute the compiled template and print the output to the console\n",
    "  console.log(template({ doesWhat: \"rocks!\" }));\n",
    "</script>"
   ]
  },
  {
   "cell_type": "code",
   "execution_count": null,
   "metadata": {
    "vscode": {
     "languageId": "shellscript"
    }
   },
   "outputs": [],
   "source": [
    "npm install handlebars"
   ]
  },
  {
   "cell_type": "code",
   "execution_count": null,
   "metadata": {
    "vscode": {
     "languageId": "shellscript"
    }
   },
   "outputs": [],
   "source": [
    "yarn add handlebars"
   ]
  },
  {
   "cell_type": "markdown",
   "metadata": {},
   "source": [
    "之后，你可以导入 Handlebars 来使用它。"
   ]
  },
  {
   "cell_type": "code",
   "execution_count": null,
   "metadata": {
    "vscode": {
     "languageId": "javascript"
    }
   },
   "outputs": [],
   "source": [
    "import Handlebars from \"handlebars\";\n",
    "const template = Handlebars.compile(\"Name: {{name}}\");\n",
    "console.log(template({ name: \"张三\" }));"
   ]
  },
  {
   "cell_type": "markdown",
   "metadata": {},
   "source": [
    "如果你在 CommonJS 环境下使用 Handlebars，你可以使用 require："
   ]
  },
  {
   "cell_type": "code",
   "execution_count": null,
   "metadata": {
    "vscode": {
     "languageId": "javascript"
    }
   },
   "outputs": [],
   "source": [
    "const Handlebars = require(\"handlebars\");\n",
    "const template = Handlebars.compile(\"Name: {{name}}\");\n",
    "console.log(template({ name: \"张三\" }));"
   ]
  },
  {
   "cell_type": "markdown",
   "metadata": {},
   "source": [
    "# 内置在 npm-package 中的浏览器预编译版本\n",
    "\n",
    "浏览器预编译版本位于 `node_modules/handlebars/dist/` 让 `Handlebars` 可供浏览器使用取决于你所使用的编译系统，但使用预编译 的话事情就会变得像复制文件一样简单。\n",
    "\n",
    "这是使用预编译器时的首选安装方法，因为它可以确保预编译的模板始终在相同版本的运行时上运行。"
   ]
  },
  {
   "cell_type": "markdown",
   "metadata": {},
   "source": [
    "# 下载 Handlebars\n",
    "----\n",
    "以下下载内容是为了方便社区。它们不是供生产使用的，但是它们无需设置构建引擎即可快速入门。"
   ]
  },
  {
   "cell_type": "markdown",
   "metadata": {},
   "source": [
    "# 最新版本 （4.7.8）\n",
    "[Handlebars 4.7.8 (compiler + runtime)](https://s3.amazonaws.com/builds.handlebarsjs.com/handlebars-v4.7.8.js)\n",
    "\n",
    "[minified](https://s3.amazonaws.com/builds.handlebarsjs.com/handlebars.min-v4.7.8.js)\n",
    "\n",
    "如果要在浏览器中编译模板，请使用此版本作为快速入门。\n",
    "\n",
    "[Handlebars 4.7.8 (runtime only) ](https://s3.amazonaws.com/builds.handlebarsjs.com/handlebars.runtime-v4.7.8.js)\n",
    "\n",
    "[minified ](https://s3.amazonaws.com/builds.handlebarsjs.com/handlebars.runtime.min-v4.7.8.js)\n",
    "\n",
    "若要在浏览器中使用 [预编译模板](https://handlebarsjs.com/zh/installation/precompilation.html)，请使用此版本。这个版本不包括编译器。\n",
    "\n",
    "# 非发行版\n",
    "所有 Handlebars 的发行版本和 CI 版本都可以在我们的 S3 上下载 Build 页面 (opens new window)。\n",
    "\n",
    "最新通过的主版本的名称是 `handlebars-latest.js ，master` 上的每个通过的 SHA 都会创建一个 `handlebars-gitSHA.js` 文件。尽 管所有文件都通过了 CI，你仍应使用带标记的发行版。\n",
    "\n",
    "注意: 构建页面是为了方便社区而提供的，你不应将其用于生产环境。"
   ]
  },
  {
   "cell_type": "markdown",
   "metadata": {},
   "source": [
    "# CDNs\n",
    "---\n",
    "Handlebars 也托管在许多免费的 CDN 上。\n",
    "\n",
    "[cdnjs](https://cdnjs.com/libraries/handlebars.js)\n",
    "[jsDelivr](http://www.jsdelivr.com/#!handlebarsjs)。高级用法，例如  \n",
    "[version aliasing & concocting](https://github.com/jsdelivr/jsdelivr#usage)。"
   ]
  },
  {
   "cell_type": "markdown",
   "metadata": {},
   "source": [
    "# RubyGems\n",
    "---\n",
    "可在 https://rubygems.org/gems/handlebars-source 上获得官方的 Handlebars 构建。\n",
    "\n",
    "# Bower, Component, Composer, jspm\n",
    "---\n",
    "也可以使用其他包管理器来安装 Handlebars，例如\n",
    "\n",
    "- Bower (已弃用)\n",
    "- Component\n",
    "- Composer\n",
    "- jspm\n",
    "\n",
    "有关详细信息，请参见 https://github.com/components/handlebars.js (opens new window)。\n",
    "\n",
    "# 用法\n",
    "---\n",
    "你可以通过将模板包含在 <script> 标签中来将模板传递给浏览器。\n",
    "\n",
    "\n"
   ]
  },
  {
   "cell_type": "code",
   "execution_count": null,
   "metadata": {
    "vscode": {
     "languageId": "html"
    }
   },
   "outputs": [],
   "source": [
    "<script id=\"entry-template\" type=\"text/x-handlebars-template\">\n",
    "  <div class=\"entry\">\n",
    "    <h1>{{title}}</h1>\n",
    "    <div class=\"body\">\n",
    "      {{body}}\n",
    "    </div>\n",
    "  </div>\n",
    "</script>"
   ]
  },
  {
   "cell_type": "markdown",
   "metadata": {},
   "source": []
  },
  {
   "cell_type": "markdown",
   "metadata": {},
   "source": [
    "\n",
    "> 必须对模板使用 script 标签\n",
    "> 如果使用此方法，则必须使用 script 标签包装模板。否则浏览器可能会删除或修改如果没有，则模板的各个部分。看一下 [表格中的意外标记](https://html.spec.whatwg.org/multipage/parsing.html#unexpected-markup-in-tables) 例。\n",
    ">   \n",
    "\n",
    "\n",
    "\n",
    "使用 Handlebars.compile 在 JavaScript 中编译模板\n",
    "\n",
    "```javascript\n",
    "var source = document.getElementById(\"entry-template\").innerHTML;\n",
    "var template = Handlebars.compile(source);\n",
    "```\n",
    "通过调用 Handlebars.compile 并传递一个模板参数来获得 HTML。\n",
    "\n",
    "```javascript\n",
    "var context = { title: \"我的新文章\", body: \"这是我的第一篇文章！\" };\n",
    "var html = template(context);\n",
    "```\n",
    "\n",
    "结果：\n",
    "```html\n",
    "<div class=\"entry\">\n",
    "  <h1>我的新文章</h1>\n",
    "  <div class=\"body\">\n",
    "    这是我的第一篇文章！\n",
    "  </div>\n",
    "</div>\n",
    "\n",
    "```\n",
    "# 预编译模板\n",
    "在前面的示例中，我们加载了 Handlebars 的编译器和运行时版本。预编译模板在你的网站中包含预编译的版本要高效得多。你可以引用 较小的运行时让浏览器不必在运行模板之前对其进行编译。\n",
    "\n",
    "了解更多：预编译\n",
    "\n",
    "> # Bower （已弃用）\n",
    "> 注意\n",
    "> \n",
    "> 不推荐使用 Bower(opens new window)\n",
    "> \n",
    "> 为了向后兼容，目前仍在发布了 Bower 版本的 Handlebars。但是如果你要开启一个新项目，你不应再使用它。\n",
    "> \n",
    "\n",
    "\n",
    "# 其他语言\n",
    "---\n",
    "许多语言都实现了 Handlebars。\n",
    "\n",
    "- .Net(opens new window)\n",
    "- C(opens new window)\n",
    "- Go(opens new window)\n",
    "- Java(opens new window)\n",
    "- PHP (LightnCandy)(opens new window)\n",
    "- Python(opens new window)\n",
    "- Ruby(opens new window)\n",
    "- Rust"
   ]
  }
 ],
 "metadata": {
  "language_info": {
   "name": "python"
  }
 },
 "nbformat": 4,
 "nbformat_minor": 2
}
