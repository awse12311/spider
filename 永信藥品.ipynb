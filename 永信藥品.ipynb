{
 "cells": [
  {
   "cell_type": "code",
   "execution_count": null,
   "metadata": {
    "vscode": {
     "languageId": "javascript"
    }
   },
   "outputs": [],
   "source": [
    "// Get the source folder path, assuming the local variable name is SourceFolderPath\n",
    "var sourceFolderPath = OL.localVariables[\"SourceFolderPath\"];\n",
    "\n",
    "// Get the target folder path, assuming the local variable name is TargetFolderPath\n",
    "var targetFolderPath = OL.localVariables[\"TargetFolderPath\"];\n",
    "\n",
    "// Create a file system object\n",
    "var fso = new ActiveXObject(\"Scripting.FileSystemObject\");\n",
    "\n",
    "// Get the source folder object\n",
    "var sourceFolder = fso.GetFolder(sourceFolderPath);\n",
    "\n",
    "// Iterate through the files in the source folder\n",
    "var files = new Enumerator(sourceFolder.files);\n",
    "for (; !files.atEnd(); files.moveNext()) {\n",
    "    var file = files.item();\n",
    "    \n",
    "    // Get the file name\n",
    "    var fileName = file.Name;\n",
    "    \n",
    "    // Check if the file name contains a specific keyword, using \"keyword\" as an example here\n",
    "    if (fileName.indexOf(\"keyword\") !== -1) {\n",
    "        // Create the target subfolder path, assuming the subfolder name is \"KeywordFolder\"\n",
    "        var targetSubFolderPath = targetFolderPath + \"\\\\KeywordFolder\";\n",
    "        \n",
    "        // Check if the target subfolder exists, if not, create it\n",
    "        if (!fso.FolderExists(targetSubFolderPath)) {\n",
    "            fso.CreateFolder(targetSubFolderPath);\n",
    "        }\n",
    "        \n",
    "        // Move the file to the target subfolder\n",
    "        file.Move(targetSubFolderPath + \"\\\\\" + fileName);\n",
    "    }\n",
    "}\n"
   ]
  }
 ],
 "metadata": {
  "language_info": {
   "name": "python"
  }
 },
 "nbformat": 4,
 "nbformat_minor": 2
}
