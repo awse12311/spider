{
 "cells": [
  {
   "cell_type": "code",
   "execution_count": null,
   "metadata": {
    "vscode": {
     "languageId": "javascript"
    }
   },
   "outputs": [],
   "source": [
    "// Get the source folder path, assuming the local variable name is SourceFolderPath\n",
    "var sourceFolderPath = OL.localVariables[\"SourceFolderPath\"];\n",
    "\n",
    "// Get the target folder path, assuming the local variable name is TargetFolderPath\n",
    "var targetFolderPath = OL.localVariables[\"TargetFolderPath\"];\n",
    "\n",
    "// Create a file system object\n",
    "var fso = new ActiveXObject(\"Scripting.FileSystemObject\");\n",
    "\n",
    "// Get the source folder object\n",
    "var sourceFolder = fso.GetFolder(sourceFolderPath);\n",
    "\n",
    "// Iterate through the files in the source folder\n",
    "var files = new Enumerator(sourceFolder.files);\n",
    "for (; !files.atEnd(); files.moveNext()) {\n",
    "    var file = files.item();\n",
    "    \n",
    "    // Get the file name\n",
    "    var fileName = file.Name;\n",
    "    \n",
    "    // Check if the file name contains a specific keyword, using \"keyword\" as an example here\n",
    "    if (fileName.indexOf(\"keyword\") !== -1) {\n",
    "        // Create the target subfolder path, assuming the subfolder name is \"KeywordFolder\"\n",
    "        var targetSubFolderPath = targetFolderPath + \"\\\\KeywordFolder\";\n",
    "        \n",
    "        // Check if the target subfolder exists, if not, create it\n",
    "        if (!fso.FolderExists(targetSubFolderPath)) {\n",
    "            fso.CreateFolder(targetSubFolderPath);\n",
    "        }\n",
    "        \n",
    "        // Move the file to the target subfolder\n",
    "        file.Move(targetSubFolderPath + \"\\\\\" + fileName);\n",
    "    }\n",
    "}\n"
   ]
  },
  {
   "cell_type": "code",
   "execution_count": null,
   "metadata": {
    "vscode": {
     "languageId": "javascript"
    }
   },
   "outputs": [],
   "source": [
    "// 获取源文件夹路径，假设本地变量名为 SourceFolderPath\n",
    "var sourceFolderPath = WScript.CreateObject(\"Scripting.FileSystemObject\").GetStandardStream(0).ReadToEnd();\n",
    "\n",
    "// 获取目标文件夹路径，假设本地变量名为 TargetFolderPath\n",
    "var targetFolderPath = WScript.CreateObject(\"Scripting.FileSystemObject\").GetStandardStream(1).ReadToEnd();\n",
    "\n",
    "// 创建文件系统对象\n",
    "var fso = new ActiveXObject(\"Scripting.FileSystemObject\");\n",
    "\n",
    "try {\n",
    "    // 获取源文件夹对象\n",
    "    var sourceFolder = fso.GetFolder(sourceFolderPath.trim());\n",
    "\n",
    "    // 使用 FindFile 方法找到符合条件的文件\n",
    "    var files = sourceFolder.Files;\n",
    "\n",
    "    // 使用 Filter 方法过滤文件枚举\n",
    "    var filteredFiles = files.Filter(function(file) {\n",
    "        return file.Name.indexOf(\"keyword\") !== -1;\n",
    "    });\n",
    "\n",
    "    // 检查是否存在符合条件的文件\n",
    "    if (filteredFiles.Count > 0) {\n",
    "        // 创建目标子文件夹路径，假设子文件夹名为 \"KeywordFolder\"\n",
    "        var targetSubFolderPath = targetFolderPath.trim() + \"\\\\KeywordFolder\";\n",
    "        \n",
    "        // 检查目标子文件夹是否存在，如果不存在则创建\n",
    "        if (!fso.FolderExists(targetSubFolderPath)) {\n",
    "            fso.CreateFolder(targetSubFolderPath);\n",
    "        }\n",
    "\n",
    "        // 遍历符合条件的文件，并移动到目标子文件夹中\n",
    "        var fileEnum = new Enumerator(filteredFiles);\n",
    "        for (; !fileEnum.atEnd(); fileEnum.moveNext()) {\n",
    "            var file = fileEnum.item();\n",
    "            file.Move(targetSubFolderPath + \"\\\\\" + file.Name);\n",
    "        }\n",
    "    }\n",
    "} catch (e) {\n",
    "    // 在无法找到源文件夹的情况下，创建新的目标子文件夹\n",
    "    if (!fso.FolderExists(sourceFolderPath.trim())) {\n",
    "        fso.CreateFolder(sourceFolderPath.trim());\n",
    "    }\n",
    "}\n"
   ]
  }
 ],
 "metadata": {
  "language_info": {
   "name": "python"
  }
 },
 "nbformat": 4,
 "nbformat_minor": 2
}
