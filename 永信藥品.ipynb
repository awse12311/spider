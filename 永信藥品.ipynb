{
 "cells": [
  {
   "cell_type": "code",
   "execution_count": null,
   "metadata": {
    "vscode": {
     "languageId": "javascript"
    }
   },
   "outputs": [],
   "source": [
    "// 获取源文件夹路径，假设本地变量名为 SourceFolderPath\n",
    "var sourceFolderPath = OL.localVariables[\"SourceFolderPath\"];\n",
    "\n",
    "// 获取目标文件夹路径，假设本地变量名为 TargetFolderPath\n",
    "var targetFolderPath = OL.localVariables[\"TargetFolderPath\"];\n",
    "\n",
    "// 创建文件系统对象\n",
    "var fso = new ActiveXObject(\"Scripting.FileSystemObject\");\n",
    "\n",
    "// 获取源文件夹对象\n",
    "var sourceFolder = fso.GetFolder(sourceFolderPath);\n",
    "\n",
    "// 遍历源文件夹中的文件\n",
    "var files = new Enumerator(sourceFolder.files);\n",
    "for (; !files.atEnd(); files.moveNext()) {\n",
    "    var file = files.item();\n",
    "    \n",
    "    // 获取文件名\n",
    "    var fileName = file.Name;\n",
    "    \n",
    "    // 检查文件名中是否包含特定关键字，这里以示例关键字 \"keyword\" 为例\n",
    "    if (fileName.indexOf(\"keyword\") !== -1) {\n",
    "        // 创建目标子文件夹路径，假设子文件夹名为 \"KeywordFolder\"\n",
    "        var targetSubFolderPath = targetFolderPath + \"\\\\KeywordFolder\";\n",
    "        \n",
    "        // 检查目标子文件夹是否存在，如果不存在则创建\n",
    "        if (!fso.FolderExists(targetSubFolderPath)) {\n",
    "            fso.CreateFolder(targetSubFolderPath);\n",
    "        }\n",
    "        \n",
    "        // 移动文件到目标子文件夹中\n",
    "        file.Move(targetSubFolderPath + \"\\\\\" + fileName);\n",
    "    }\n",
    "}\n"
   ]
  }
 ],
 "metadata": {
  "language_info": {
   "name": "python"
  }
 },
 "nbformat": 4,
 "nbformat_minor": 2
}
