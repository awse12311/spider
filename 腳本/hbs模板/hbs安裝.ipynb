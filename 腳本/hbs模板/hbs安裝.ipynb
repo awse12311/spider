{
 "cells": [
  {
   "cell_type": "markdown",
   "metadata": {},
   "source": [
    "# 安装\n",
    "有多种安装 Handlebars 的方法，具体取决于你所使用的编程语言和环境。\n",
    "\n",
    "# npm 或 yarn （推荐）\n",
    "---\n",
    "Handlebars 引擎使用 JavaScript 编写。我们最常使用 `npm` 或 `yarn` 来安装："
   ]
  },
  {
   "cell_type": "code",
   "execution_count": null,
   "metadata": {
    "vscode": {
     "languageId": "handlebars"
    }
   },
   "outputs": [],
   "source": [
    "npm install handlebars"
   ]
  },
  {
   "cell_type": "markdown",
   "metadata": {},
   "source": [
    "或者"
   ]
  },
  {
   "cell_type": "code",
   "execution_count": null,
   "metadata": {
    "vscode": {
     "languageId": "handlebars"
    }
   },
   "outputs": [],
   "source": [
    "yarn add handlebars"
   ]
  },
  {
   "cell_type": "markdown",
   "metadata": {},
   "source": [
    "之后，你可以导入 Handlebars 来使用它。"
   ]
  },
  {
   "cell_type": "code",
   "execution_count": null,
   "metadata": {
    "vscode": {
     "languageId": "handlebars"
    }
   },
   "outputs": [],
   "source": [
    "import Handlebars from \"handlebars\";\n",
    "const template = Handlebars.compile(\"Name: {{name}}\");\n",
    "console.log(template({ name: \"张三\" }));"
   ]
  },
  {
   "cell_type": "markdown",
   "metadata": {},
   "source": [
    "如果你在 CommonJS 环境下使用 Handlebars，你可以使用 require："
   ]
  },
  {
   "cell_type": "code",
   "execution_count": null,
   "metadata": {
    "vscode": {
     "languageId": "handlebars"
    }
   },
   "outputs": [],
   "source": [
    "const Handlebars = require(\"handlebars\");\n",
    "const template = Handlebars.compile(\"Name: {{name}}\");\n",
    "console.log(template({ name: \"张三\" }));"
   ]
  },
  {
   "cell_type": "markdown",
   "metadata": {},
   "source": [
    "# 提示\n",
    "\n",
    "建议使用 npm 或 yarn 来使用 Handlebars。如果你想在浏览器上使用，建议你使用 Webpack、Browserify 或 Parcel 等构建引擎。\n",
    "\n",
    "集成 页面包含了一份使你能够使用自动预编译或仅使用 Handlebars 的插件列表。\n",
    "\n",
    "[了解更多：集成](https://handlebarsjs.com/zh/installation/integrations.html)"
   ]
  },
  {
   "cell_type": "markdown",
   "metadata": {},
   "source": [
    "# 内置在 npm-package 中的浏览器预编译版本\n",
    "浏览器预编译版本位于 node_modules/handlebars/dist/ 让 Handlebars 可供浏览器使用取决于你所使用的编译系统，但使用预编译 的话事情就会变得像复制文件一样简单。\n",
    "\n",
    "这是使用预编译器时的首选安装方法，因为它可以确保预编译的模板始终在相同版本的运行时上运行。"
   ]
  },
  {
   "cell_type": "markdown",
   "metadata": {},
   "source": [
    "# 下载 Handlebars\n",
    "-------\n",
    "以下下载内容是为了方便社区。它们不是供生产使用的，但是它们无需设置构建引擎即可快速入门。"
   ]
  },
  {
   "cell_type": "markdown",
   "metadata": {},
   "source": [
    "# 最新版本 （4.7.8）\n",
    "---\n",
    "[Handlebars 4.7.8 (compiler + runtime) ](https://s3.amazonaws.com/builds.handlebarsjs.com/handlebars-v4.7.8.js)\n",
    "[minified](https://s3.amazonaws.com/builds.handlebarsjs.com/handlebars.min-v4.7.8.js) \n",
    "如果要在浏览器中编译模板，请使用此版本作为快速入门。\n",
    "\n",
    "[Handlebars 4.7.8 (runtime only) ](https://s3.amazonaws.com/builds.handlebarsjs.com/handlebars.runtime-v4.7.8.js)\n",
    "[minified](https://s3.amazonaws.com/builds.handlebarsjs.com/handlebars.runtime.min-v4.7.8.js) \n",
    "若要在浏览器中使用 预编译模板，请使用此版本。这个版本不包括编译器。\n",
    "\n",
    "# 非发行版\n",
    "---\n",
    "所有 Handlebars 的发行版本和 CI 版本都可以在我们的 S3 上下载 Build 页面 (opens new window)。\n",
    "\n",
    "最新通过的主版本的名称是 `handlebars-latest.js `，`master` 上的每个通过的 SHA 都会创建一个 `handlebars-gitSHA.js` 文件。尽 管所有文件都通过了 `CI`，你仍应使用带标记的发行版。\n",
    "\n",
    "注意: 构建页面是为了方便社区而提供的，你不应将其用于生产环境。\n",
    "\n",
    "# CDNs\n",
    "---\n",
    "Handlebars 也托管在许多免费的 CDN 上。\n",
    "\n",
    "cdnjs(opens new window)\n",
    "jsDelivr (opens new window)。高级用法，例如   [version aliasing & concocting](https://github.com/jsdelivr/jsdelivr#usage) 。\n",
    "# RubyGems\n",
    "---\n",
    "可在 https://rubygems.org/gems/handlebars-source 上获得官方的 Handlebars 构建。\n",
    "\n",
    "# Bower, Component, Composer, jspm\n",
    "---\n",
    "也可以使用其他包管理器来安装 Handlebars，例如\n",
    "\n",
    "Bower (已弃用)\n",
    "Component\n",
    "Composer\n",
    "jspm\n",
    "有关详细信息，请参见 https://github.com/components/handlebars.js 。\n",
    "\n",
    "# 用法\n",
    "---\n",
    "你可以通过将模板包含在 `<script></script>` 标签中来将模板传递给浏览器。"
   ]
  },
  {
   "cell_type": "code",
   "execution_count": null,
   "metadata": {
    "vscode": {
     "languageId": "handlebars"
    }
   },
   "outputs": [],
   "source": [
    "<script id=\"entry-template\" type=\"text/x-handlebars-template\">\n",
    "  <div class=\"entry\">\n",
    "    <h1>{{title}}</h1>\n",
    "    <div class=\"body\">\n",
    "      {{body}}\n",
    "    </div>\n",
    "  </div>\n",
    "</script>"
   ]
  },
  {
   "cell_type": "markdown",
   "metadata": {},
   "source": [
    "必须对模板使用 script 标签\n",
    "\n",
    "如果使用此方法，则必须使用 script 标签包装模板。否则浏览器可能会删除或修改如果没有，则模板的各个部分。看一下 [表格中的意外标记](https://html.spec.whatwg.org/multipage/parsing.html#unexpected-markup-in-tables)例。"
   ]
  },
  {
   "cell_type": "markdown",
   "metadata": {},
   "source": [
    "使用 Handlebars.compile 在 JavaScript 中编译模板"
   ]
  },
  {
   "cell_type": "code",
   "execution_count": null,
   "metadata": {
    "vscode": {
     "languageId": "handlebars"
    }
   },
   "outputs": [],
   "source": [
    "var source = document.getElementById(\"entry-template\").innerHTML;\n",
    "var template = Handlebars.compile(source);"
   ]
  },
  {
   "cell_type": "markdown",
   "metadata": {},
   "source": [
    "通过调用 Handlebars.compile 并传递一个模板参数来获得 HTML。"
   ]
  },
  {
   "cell_type": "code",
   "execution_count": null,
   "metadata": {
    "vscode": {
     "languageId": "handlebars"
    }
   },
   "outputs": [],
   "source": [
    "var context = { title: \"我的新文章\", body: \"这是我的第一篇文章！\" };\n",
    "var html = template(context);"
   ]
  },
  {
   "cell_type": "markdown",
   "metadata": {},
   "source": [
    "结果："
   ]
  },
  {
   "cell_type": "code",
   "execution_count": null,
   "metadata": {
    "vscode": {
     "languageId": "handlebars"
    }
   },
   "outputs": [],
   "source": [
    "<div class=\"entry\">\n",
    "  <h1>我的新文章</h1>\n",
    "  <div class=\"body\">\n",
    "    这是我的第一篇文章！\n",
    "  </div>\n",
    "</div>"
   ]
  },
  {
   "cell_type": "markdown",
   "metadata": {},
   "source": [
    "# 预编译模板\n",
    "在前面的示例中，我们加载了 Handlebars 的编译器和运行时版本。预编译模板在你的网站中包含预编译的版本要高效得多。你可以引用 较小的运行时让浏览器不必在运行模板之前对其进行编译。\n",
    "\n",
    "[了解更多：预编译](https://handlebarsjs.com/zh/installation/precompilation.html)"
   ]
  },
  {
   "cell_type": "markdown",
   "metadata": {},
   "source": [
    "# Bower （已弃用）\n",
    "注意\n",
    "\n",
    "不推荐使用 [Bower](https://bower.io/blog/2017/how-to-migrate-away-from-bower/)\n",
    "\n",
    "为了向后兼容，目前仍在发布了 Bower 版本的 Handlebars。但是如果你要开启一个新项目，你不应再使用它。\n",
    "\n",
    "# 其他语言\n",
    "许多语言都实现了 Handlebars。\n",
    "\n",
    "- [.Net](https://github.com/Handlebars-Net/Handlebars.Net)\n",
    "- [C](https://github.com/jbboehr/handlebars.c)\n",
    "- [Go](https://github.com/aymerick/raymond)\n",
    "- [Java](https://github.com/jknack/handlebars.java)\n",
    "- [PHP(LightnCandy)](https://github.com/zordius/lightncandy)\n",
    "- [Python](https://github.com/wbond/pybars3)\n",
    "- [Ruby](https://github.com/cowboyd/handlebars.rb)\n",
    "- [Rust](https://github.com/sunng87/handlebars-rust)\n"
   ]
  }
 ],
 "metadata": {
  "language_info": {
   "name": "python"
  }
 },
 "nbformat": 4,
 "nbformat_minor": 2
}
