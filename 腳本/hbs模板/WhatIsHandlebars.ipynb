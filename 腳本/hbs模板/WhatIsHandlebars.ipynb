{
 "cells": [
  {
   "cell_type": "markdown",
   "metadata": {},
   "source": [
    "# 什么是 Handlebars？\n",
    "\n",
    "Handlebars 是一种简单的 模板语言。\n",
    "\n",
    "它使用模板和输入对象来生成 HTML 或其他文本格式。Handlebars 模板看起来像常规的文本，但是它带有嵌入式的 Handlebars 表达式 。"
   ]
  },
  {
   "cell_type": "markdown",
   "metadata": {},
   "source": [
    "# 模板注释\n",
    "你可以像在其他语言的代码中一样在 `Handlebars` 代码中使用注释。由于 `Handlebars` 代码中通常存在一定程度的逻辑，因此这是一个好 习惯。\n",
    "\n",
    "注释将不会出现在结果输出中。如果你想显示注释。只需使用 `html` 注释。它们将被输出。\n",
    "\n",
    "任何包含 `}}` 或其他 Handlebars 标记的注释都应该使用 `{{!--}}` 语法。"
   ]
  },
  {
   "cell_type": "code",
   "execution_count": null,
   "metadata": {},
   "outputs": [],
   "source": [
    "{{! This comment will not show up in the output}}\n",
    "<!-- This comment will show up as HTML-comment -->\n",
    "{{!-- This comment may contain mustaches like }} --}}"
   ]
  },
  {
   "cell_type": "markdown",
   "metadata": {},
   "source": [
    "# 自定义助手\n",
    "通过调用 Handlebars.registerHelper 方法，你可以从模板中的任何上下文中访问 Handlebars 助手代码。\n",
    "\n",
    "\n",
    "template"
   ]
  },
  {
   "cell_type": "code",
   "execution_count": null,
   "metadata": {},
   "outputs": [],
   "source": [
    "\n",
    "{{firstname}} {{loud lastname}}"
   ]
  },
  {
   "cell_type": "markdown",
   "metadata": {},
   "source": [
    "preparationScript"
   ]
  },
  {
   "cell_type": "code",
   "execution_count": null,
   "metadata": {},
   "outputs": [],
   "source": [
    "\n",
    "Handlebars.registerHelper('loud', function (aString) {\n",
    "    return aString.toUpperCase()\n",
    "})"
   ]
  },
  {
   "cell_type": "markdown",
   "metadata": {},
   "source": [
    "# 块助手代码\n",
    "代码块表达式使你可以自定义这样的助手代码：这个助手代码可以使用与当前上下文不同的上下文来调用模板。这些块助手代码在名称前 以 # 号标识，并且需要一个名称相同的结束模板 /。让我们考虑一个生成 HTML 列表的助手代码：\n",
    "\n",
    "preparationScript\n",
    "\n",
    "\n",
    "\n"
   ]
  },
  {
   "cell_type": "code",
   "execution_count": null,
   "metadata": {},
   "outputs": [],
   "source": [
    "Handlebars.registerHelper(\"list\", function(items, options) {\n",
    "  const itemsAsHtml = items.map(item => \"<li>\" + options.fn(item) + \"</li>\");\n",
    "  return \"<ul>\\n\" + itemsAsHtml.join(\"\\n\") + \"\\n</ul>\";\n",
    "});"
   ]
  },
  {
   "cell_type": "markdown",
   "metadata": {},
   "source": [
    "这个示例创建了一个名为 list 的助手代码来生成我们的 HTML 列表。助手代码接收一个 people 参数和一个 options 参数 。options 包含一个名为 fn 的属性，这个属性使你能够像调用普通的 Handlebars 模板一样调用代码块的上下文。\n",
    "\n",
    "执行后，模板将渲染：\n",
    "\n",
    "output"
   ]
  },
  {
   "cell_type": "code",
   "execution_count": null,
   "metadata": {},
   "outputs": [],
   "source": [
    "<ul>\n",
    "<li>Yehuda Katz</li>\n",
    "<li>Carl Lerche</li>\n",
    "<li>Alan Johnson</li>\n",
    "</ul>"
   ]
  },
  {
   "cell_type": "markdown",
   "metadata": {},
   "source": [
    "块助手代码具有其他功能，例如能够创建 else （例如，由内置的 if 函数使用）\n",
    "\n",
    "因为调用 options.fn(context) 时 Handlebars 会转义块助手代码的内容，因此 Handlebars 不会转义块助手代码的返回结果。如果 这样做，代码块内部的内容将被两次转义。\n",
    "\n",
    "[了解更多: 块助手代码](https://handlebarsjs.com/zh/guide/block-helpers.html)"
   ]
  },
  {
   "cell_type": "markdown",
   "metadata": {},
   "source": [
    "# HTML 转义\n",
    "因为 Handlebars 最初是设计用来生成 HTML 的，所以它会转义由 `{{expression}} `返回的值。如果你不想让 Handlebars 转义某个值 ，请使用“三重隐藏”（`{{{`）。"
   ]
  },
  {
   "cell_type": "code",
   "execution_count": null,
   "metadata": {},
   "outputs": [],
   "source": [
    "template\n",
    "raw: {{{specialChars}}}\n",
    "html-escaped: {{specialChars}}"
   ]
  },
  {
   "cell_type": "markdown",
   "metadata": {},
   "source": [
    "\n",
    "第二行中的特殊字符将被转义：\n",
    "\n",
    "output"
   ]
  },
  {
   "cell_type": "code",
   "execution_count": null,
   "metadata": {},
   "outputs": [],
   "source": [
    "raw: & < > \" ' ` =\n",
    "html-escaped: &amp; &lt; &gt; &quot; &#x27; &#x60; &#x3D;"
   ]
  },
  {
   "cell_type": "markdown",
   "metadata": {},
   "source": [
    "Handlebars 不会转义 Handlebars.SafeString。如果你正在编写一个自己的生成 HTML 的助手代码，你通常会想返回一个 new Handlebars.SafeString(result)。这种情况下，你将需要手动转义参数。\n",
    "\n",
    "preparationScript"
   ]
  },
  {
   "cell_type": "code",
   "execution_count": null,
   "metadata": {},
   "outputs": [],
   "source": [
    "Handlebars.registerHelper(\"bold\", function(text) {\n",
    "  var result = \"<b>\" + Handlebars.escapeExpression(text) + \"</b>\";\n",
    "  return new Handlebars.SafeString(result);\n",
    "});"
   ]
  },
  {
   "cell_type": "markdown",
   "metadata": {},
   "source": [
    "这将转义传入的参数，但是 response 会被标记为 safe，因此即使未使用“三重隐藏”， Handlebars 也不会尝试转义它。\n",
    "\n",
    "\n",
    "**注意**\n",
    "\n",
    "Handlebars 不会转义 JavaScript 字串。使用 Handlebars 生成 JavaScript（例如内联事件处理程序），可能会产生跨域脚本攻击漏洞 。\n"
   ]
  },
  {
   "cell_type": "markdown",
   "metadata": {},
   "source": [
    "# 代码片段\n",
    "Handlebars 代码片段通过创建共享模板允许代码复用。你可以使用 registerPartial 方法："
   ]
  },
  {
   "cell_type": "code",
   "execution_count": null,
   "metadata": {},
   "outputs": [],
   "source": [
    "Handlebars.registerPartial(\n",
    "    \"person\", \n",
    "    \"{{person.name}} is {{person.age}} years old.\\n\"\n",
    ")"
   ]
  },
  {
   "cell_type": "markdown",
   "metadata": {},
   "source": [
    "以下模板和输入："
   ]
  },
  {
   "cell_type": "code",
   "execution_count": null,
   "metadata": {},
   "outputs": [],
   "source": [
    "template\n",
    "{{#each persons}}\n",
    "  {{>person person=.}}\n",
    "{{/each}}"
   ]
  },
  {
   "cell_type": "markdown",
   "metadata": {},
   "source": [
    "input"
   ]
  },
  {
   "cell_type": "code",
   "execution_count": null,
   "metadata": {},
   "outputs": [],
   "source": [
    "{\n",
    "  persons: [\n",
    "    { name: \"Nils\", age: 20 },\n",
    "    { name: \"Teddy\", age: 10 },\n",
    "    { name: \"Nelson\", age: 40 },\n",
    "  ],\n",
    "}"
   ]
  },
  {
   "cell_type": "markdown",
   "metadata": {},
   "source": [
    "将渲染得到以下结果：\n",
    "\n",
    "output"
   ]
  },
  {
   "cell_type": "code",
   "execution_count": null,
   "metadata": {},
   "outputs": [],
   "source": [
    "  Nils is 20 years old.\n",
    "  Teddy is 10 years old.\n",
    "  Nelson is 40 years old."
   ]
  },
  {
   "cell_type": "markdown",
   "metadata": {},
   "source": [
    "[了解更多: 代码片段](https://handlebarsjs.com/zh/guide/partials.html)\n",
    "\n",
    "# 内置助手代码\n",
    "---\n",
    "Handlebars 提供了各种内置助手代码，例如 if 条件代码块和 each 迭代器。\n",
    "\n",
    "[了解更多: 内置助手代码 C:\\](C:\\Users\\張駿宇\\Documents\\GitHub\\spider\\腳本\\hbs模板\\hbs内置助手代码.ipynb)\n",
    "\n",
    "[了解更多: 内置助手代码 http://](https://handlebarsjs.com/zh/guide/builtin-helpers.html)\n",
    "\n",
    "# API 参考\n",
    "---\n",
    "Handlebars 为应用程序和助手代码提供了各种 API 和实用的方法。\n",
    "\n",
    "[了解更多: API 参考](https://handlebarsjs.com/api-reference/)\n"
   ]
  }
 ],
 "metadata": {
  "language_info": {
   "name": "python"
  }
 },
 "nbformat": 4,
 "nbformat_minor": 2
}
