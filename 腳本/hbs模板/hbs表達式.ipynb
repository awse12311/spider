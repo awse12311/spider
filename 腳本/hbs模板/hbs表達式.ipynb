{
 "cells": [
  {
   "cell_type": "markdown",
   "metadata": {},
   "source": [
    "## HBS 表達式"
   ]
  },
  {
   "cell_type": "markdown",
   "metadata": {},
   "source": [
    "# 表达式\n",
    "Handlebars 表达式是 Handlebars 模板的基本单位。 您可以在 {{mustache}} 中单独使用它们或将它们用作 Handlebars 助手代码， 或将其用作 Hash 参数中的值。\n",
    "\n",
    "# 基本用法\n",
    "Handlebars 表达式是一些以双花括号 {{}} 括起来的内容。在以下的模版中，firstname 是一个被声明为表达式的变量，且被双花 括号括起来。"
   ]
  },
  {
   "cell_type": "code",
   "execution_count": null,
   "metadata": {
    "vscode": {
     "languageId": "handlebars"
    }
   },
   "outputs": [],
   "source": [
    "<p>{{firstname}} {{lastname}}</p>\n"
   ]
  },
  {
   "cell_type": "markdown",
   "metadata": {},
   "source": [
    "如果将以下对象输入模板："
   ]
  },
  {
   "cell_type": "code",
   "execution_count": null,
   "metadata": {
    "vscode": {
     "languageId": "handlebars"
    }
   },
   "outputs": [],
   "source": [
    "Handlebars.registerHelper('loud', function(string) {\n",
    "   return string.toUpperCase()\n",
    "});\n"
   ]
  },
  {
   "cell_type": "markdown",
   "metadata": {},
   "source": [
    "<p>Yehuda Katz</p>"
   ]
  },
  {
   "cell_type": "code",
   "execution_count": null,
   "metadata": {
    "vscode": {
     "languageId": "handlebars"
    }
   },
   "outputs": [],
   "source": [
    "<p>Yehuda Katz</p>"
   ]
  },
  {
   "cell_type": "markdown",
   "metadata": {},
   "source": [
    "# 路径表达式\n",
    "Handlebars 表达式亦可为以句点分隔的路径。"
   ]
  },
  {
   "cell_type": "code",
   "execution_count": null,
   "metadata": {
    "vscode": {
     "languageId": "handlebars"
    }
   },
   "outputs": [],
   "source": [
    "{{person.firstname}} {{person.lastname}}"
   ]
  },
  {
   "cell_type": "markdown",
   "metadata": {},
   "source": [
    "这个表达式将会在输入对象中查找 person 属性，然后查找 person 对象中的 firstname 和lastname属性。 person 对象内的 属性。\n",
    "\n",
    "将如下输入传入模版："
   ]
  },
  {
   "cell_type": "code",
   "execution_count": null,
   "metadata": {
    "vscode": {
     "languageId": "handlebars"
    }
   },
   "outputs": [],
   "source": [
    "{\n",
    "  person: {\n",
    "    firstname: \"Yehuda\",\n",
    "    lastname: \"Katz\",\n",
    "  },\n",
    "}"
   ]
  },
  {
   "cell_type": "markdown",
   "metadata": {},
   "source": [
    "会获得如下输出：\n",
    "Yehuda Katz\n",
    "\n",
    "Handlebars 同时支持一个已弃用的 / 语法，因此你可以将上面的例子这样写："
   ]
  },
  {
   "cell_type": "code",
   "execution_count": null,
   "metadata": {
    "vscode": {
     "languageId": "handlebars"
    }
   },
   "outputs": [],
   "source": [
    "{{person/firstname}} {{person/lastname}}"
   ]
  },
  {
   "cell_type": "markdown",
   "metadata": {},
   "source": [
    "# 更改上下文\n",
    "一些诸如 #with and #each 的助手代码使你能够操作嵌套的对象。当你在路径中包含 ../ 时，Handlebars 将转回父级上下文。\n"
   ]
  },
  {
   "cell_type": "code",
   "execution_count": null,
   "metadata": {
    "vscode": {
     "languageId": "handlebars"
    }
   },
   "outputs": [],
   "source": [
    "\n",
    "{{#each people}}\n",
    "    {{../prefix}} {{firstname}} \n",
    "{{/each}}"
   ]
  },
  {
   "cell_type": "markdown",
   "metadata": {},
   "source": [
    "即使在注释的上下文中输出了名称，它仍然可以返回到主上下文（根对象）以检索前缀。\n",
    "\n",
    "# 注意\n",
    "\n",
    "../ 解析的确切值根据调用该代码块的助手代码不同而有所不同。仅在上下文更改必要时使用 ../。诸如 {{#each}} 之类的子助 手代码将需要使用 ../ ，而诸如 {{#if}} 之类的助手代码则不需要。"
   ]
  },
  {
   "cell_type": "code",
   "execution_count": null,
   "metadata": {
    "vscode": {
     "languageId": "handlebars"
    }
   },
   "outputs": [],
   "source": [
    "{{permalink}}\n",
    "{{#each comments}}\n",
    "  {{../permalink}}\n",
    "\n",
    "  {{#if title}}\n",
    "    {{../permalink}}\n",
    "  {{/if}}\n",
    "{{/each}}"
   ]
  },
  {
   "cell_type": "markdown",
   "metadata": {},
   "source": [
    "\n",
    "\n",
    "在此示例中，以上所有引用相同的前缀值，即使它们位于不同的块中也是如此。这样的行为是从 Handlebars 4 开始的， 发行说明 也讨论了先前的行为作为迁移计划。 Handlebars 还允许通过 this 来解决助手和数据字段之间的名称冲突。参考："
   ]
  },
  {
   "cell_type": "markdown",
   "metadata": {},
   "source": [
    "# 文字\n",
    "除了以下字符，标识符可以是任何 Unicode 文本：\n",
    "\n",
    "Whitespace \n",
    "**! \" # % & ' ( ) * + , . / ; < = > @ [ \\ ] ^ ` { | } ~**\n",
    "\n",
    "除此之外，true, false, null 和 undefined 只允许在路径表达式的开头出现。\n",
    "\n",
    "若想引用一个并非合法的标识符，你可以使用 [。在路径表达式中你不必使用 ] 来关闭它，但其他表达式中是需要的。\n",
    "\n",
    "JavaScript 样式的字符串如 \" 和 ' 也可用于替代 [。\n",
    "\n",
    "\n"
   ]
  },
  {
   "cell_type": "code",
   "execution_count": null,
   "metadata": {
    "vscode": {
     "languageId": "handlebars"
    }
   },
   "outputs": [],
   "source": [
    "{{!-- wrong: {{array.0.item}} --}}\n",
    "correct: array.[0].item: {{array.[0].item}}\n",
    "\n",
    "{{!-- wrong: {{array.[0].item-class}} --}}\n",
    "correct: array.[0].[item-class]: {{array.[0].[item-class]}}\n",
    "\n",
    "{{!-- wrong: {{./true}}--}}\n",
    "correct: ./[true]: {{./[true]}}"
   ]
  },
  {
   "cell_type": "markdown",
   "metadata": {},
   "source": [
    "# HTML 转义\n",
    "在 Handlebars 中，由 {{expression}} 返回的值是 HTML 转义的。也就是说，如果一个表达式包含 &，那么返回的 HTML 转义的内 容将会包含 &amp;。如果你不希望 Handlebars 转义字符的话，请使用 {{{。\n",
    "\n",
    "在以下模板中，你将了解如何生成 HTML 转义的和原始的输出。\n"
   ]
  },
  {
   "cell_type": "markdown",
   "metadata": {},
   "source": [
    "raw: {{{specialChars}}}\n",
    "html-escaped: {{specialChars}}"
   ]
  },
  {
   "cell_type": "markdown",
   "metadata": {},
   "source": [
    "将如下特殊的输入传入模版：\n"
   ]
  },
  {
   "cell_type": "code",
   "execution_count": null,
   "metadata": {
    "vscode": {
     "languageId": "handlebars"
    }
   },
   "outputs": [],
   "source": [
    "{ specialChars: \"& < > \\\" ' ` =\" }"
   ]
  },
  {
   "cell_type": "markdown",
   "metadata": {},
   "source": [
    "使用 {{{ 会输出原始结果。否则将会输出 HTML 转义之后的结果，如下面的例子所示。"
   ]
  },
  {
   "cell_type": "code",
   "execution_count": null,
   "metadata": {
    "vscode": {
     "languageId": "handlebars"
    }
   },
   "outputs": [],
   "source": [
    "raw: & < > \" ' ` =\n",
    "html-escaped: &amp; &lt; &gt; &quot; &#x27; &#x60; &#x3D;"
   ]
  },
  {
   "cell_type": "markdown",
   "metadata": {},
   "source": [
    "# 助手代码\n",
    "助手代码可以实现一些并非 Handlesbars 语言本身的功能。\n",
    "\n",
    "在运行时可以用 HandleBars.registerHelper 可以注册助手代码。例如为了将字符串中的所有字符转换为大写。\n",
    "\n",
    "\n",
    "\n",
    "\n"
   ]
  },
  {
   "cell_type": "code",
   "execution_count": null,
   "metadata": {
    "vscode": {
     "languageId": "handlebars"
    }
   },
   "outputs": [],
   "source": [
    "{{!-- preparationScript --}}\n",
    "Handlebars.registerHelper('loud', function (aString) {\n",
    "    return aString.toUpperCase()\n",
    "})"
   ]
  },
  {
   "cell_type": "code",
   "execution_count": null,
   "metadata": {
    "vscode": {
     "languageId": "handlebars"
    }
   },
   "outputs": [],
   "source": [
    "Handlebars 助手代码的调用需要一个简单标识符，且可紧接一个或多个参数（以空格分割）。每一参数为一个 Handlebars 表达式，且 将会用于上方“基本用法”中相同的方法来计算。"
   ]
  },
  {
   "cell_type": "code",
   "execution_count": null,
   "metadata": {
    "vscode": {
     "languageId": "handlebars"
    }
   },
   "outputs": [],
   "source": [
    "{{!-- input --}}\n",
    "{{firstname}} {{loud lastname}}"
   ]
  },
  {
   "cell_type": "markdown",
   "metadata": {},
   "source": [
    "此例子中，load 是助手代码的名称，而 lastname 为传递给助手代码的参数。此模板，将会将输入的 uppercase 属性正确地转换 为大写：\n"
   ]
  },
  {
   "cell_type": "code",
   "execution_count": null,
   "metadata": {
    "vscode": {
     "languageId": "handlebars"
    }
   },
   "outputs": [],
   "source": [
    "{{!-- input --}}\n",
    "{\n",
    "  firstname: \"Yehuda\",\n",
    "  lastname: \"Katz\",\n",
    "}"
   ]
  },
  {
   "cell_type": "code",
   "execution_count": null,
   "metadata": {
    "vscode": {
     "languageId": "handlebars"
    }
   },
   "outputs": [],
   "source": [
    "{{!-- ouput --}}\n",
    "Yehuda KATZ"
   ]
  },
  {
   "cell_type": "markdown",
   "metadata": {},
   "source": [
    "# 避免助手代码的返回值被 HTML 转义\n",
    "即使当使用 {{ 而非 {{{ 来调用助手代码时，当你的助手代码返回一个 Handlebars.Safestring 的实例，返回值也并不会被转义 。你需要留心将所有参数正确地使用 Handlebars.escapeExpression 来转义。"
   ]
  },
  {
   "cell_type": "code",
   "execution_count": null,
   "metadata": {
    "vscode": {
     "languageId": "handlebars"
    }
   },
   "outputs": [],
   "source": [
    "{{bold text}}"
   ]
  },
  {
   "cell_type": "code",
   "execution_count": null,
   "metadata": {
    "vscode": {
     "languageId": "handlebars"
    }
   },
   "outputs": [],
   "source": [
    "Handlebars.registerHelper(\"bold\", function(text) {\n",
    "  var result = \"<b>\" + Handlebars.escapeExpression(text) + \"</b>\";\n",
    "  return new Handlebars.SafeString(result);\n",
    "});"
   ]
  },
  {
   "cell_type": "code",
   "execution_count": null,
   "metadata": {
    "vscode": {
     "languageId": "handlebars"
    }
   },
   "outputs": [],
   "source": [
    "{ text: \"Isn't this great?\" }"
   ]
  },
  {
   "cell_type": "code",
   "execution_count": null,
   "metadata": {
    "vscode": {
     "languageId": "handlebars"
    }
   },
   "outputs": [],
   "source": [
    "<b>Isn&#x27;t this great?</b>"
   ]
  },
  {
   "cell_type": "markdown",
   "metadata": {},
   "source": [
    "# 具有多个参数的助手代码\n",
    "我们观察一下另一个具有两个参数的助手代码：\n"
   ]
  },
  {
   "cell_type": "markdown",
   "metadata": {},
   "source": [
    "template"
   ]
  },
  {
   "cell_type": "code",
   "execution_count": null,
   "metadata": {
    "vscode": {
     "languageId": "handlebars"
    }
   },
   "outputs": [],
   "source": [
    "{{link \"See Website\" url}}"
   ]
  },
  {
   "cell_type": "markdown",
   "metadata": {},
   "source": [
    "此例子中，Handlebars 将把两个参数传递给 link 助手代码：字符串 See Website 与从下面提供的 people 输入对象中的 people.value。"
   ]
  },
  {
   "cell_type": "markdown",
   "metadata": {},
   "source": [
    "input"
   ]
  },
  {
   "cell_type": "code",
   "execution_count": null,
   "metadata": {
    "vscode": {
     "languageId": "handlebars"
    }
   },
   "outputs": [],
   "source": [
    "{ url: \"https://yehudakatz.com/\" }"
   ]
  },
  {
   "cell_type": "markdown",
   "metadata": {},
   "source": [
    "如同代码中所述，此助手代码 link 用于生成一个超链接。"
   ]
  },
  {
   "cell_type": "markdown",
   "metadata": {},
   "source": [
    "preparationScript"
   ]
  },
  {
   "cell_type": "code",
   "execution_count": null,
   "metadata": {
    "vscode": {
     "languageId": "handlebars"
    }
   },
   "outputs": [],
   "source": [
    "Handlebars.registerHelper(\"link\", function(text, url) {\n",
    "      var url = Handlebars.escapeExpression(url),\n",
    "          text = Handlebars.escapeExpression(text)\n",
    "          \n",
    "     return new Handlebars.SafeString(\"<a href='\" + url + \"'>\" + text +\"</a>\");\n",
    "});"
   ]
  },
  {
   "cell_type": "markdown",
   "metadata": {},
   "source": [
    "我们会从上面的输入获得如下输出："
   ]
  },
  {
   "cell_type": "markdown",
   "metadata": {},
   "source": [
    "output"
   ]
  },
  {
   "cell_type": "code",
   "execution_count": null,
   "metadata": {
    "vscode": {
     "languageId": "handlebars"
    }
   },
   "outputs": [],
   "source": [
    "<a href='https://yehudakatz.com/'>See Website</a>"
   ]
  },
  {
   "cell_type": "markdown",
   "metadata": {},
   "source": [
    "在此例中，你可以使用同一助手代码，但使用基于 people.text 的值的动态文本："
   ]
  },
  {
   "cell_type": "markdown",
   "metadata": {},
   "source": [
    "template"
   ]
  },
  {
   "cell_type": "markdown",
   "metadata": {},
   "source": [
    "\n",
    "\n",
    "{{link people.text people.url}}\n"
   ]
  },
  {
   "cell_type": "markdown",
   "metadata": {},
   "source": [
    "input"
   ]
  },
  {
   "cell_type": "markdown",
   "metadata": {},
   "source": [
    "\n",
    "{\n",
    "  people: {\n",
    "    firstname: \"Yehuda\",\n",
    "    lastname: \"Katz\",\n",
    "    url: \"https://yehudakatz.com/\",\n",
    "    text: \"See Website\",\n",
    "  },\n",
    "}"
   ]
  },
  {
   "cell_type": "markdown",
   "metadata": {},
   "source": [
    "字面量参数\n",
    "帮助代码调用亦可含字面量，作为参数抑或是 Hash 参数。支持的字面量有数字、字符串、true, false, null 及 undefined：\n",
    "\n",
    "template\n"
   ]
  },
  {
   "cell_type": "code",
   "execution_count": null,
   "metadata": {
    "vscode": {
     "languageId": "handlebars"
    }
   },
   "outputs": [],
   "source": [
    "{{progress \"Search\" 10 false}}\n",
    "{{progress \"Upload\" 90 true}}\n",
    "{{progress \"Finish\" 100 false}}"
   ]
  },
  {
   "cell_type": "markdown",
   "metadata": {},
   "source": [
    "# 含有 Hash 参数的助手代码\n",
    "Handlebars 提供了额外的元数据，例如 Hash 参数来作为助手代码的最后一个参数。"
   ]
  },
  {
   "cell_type": "code",
   "execution_count": null,
   "metadata": {
    "vscode": {
     "languageId": "handlebars"
    }
   },
   "outputs": [],
   "source": [
    "template\n",
    "{{link \"See Website\" href=person.url class=\"person\"}}"
   ]
  },
  {
   "cell_type": "markdown",
   "metadata": {},
   "source": [
    "在此模版中，最后一个参数 href=people.url class=\"people\" 为传送至助手代码的 Hash 参数。\n",
    "\n",
    "Hash 参数中的键必须为简单标识符，且值为 Handlebars 表达式。这意味着值可以为简单标识符，路径或字符串。\n",
    "\n",
    "若将如下输入传入模版，其中 person.url 的值可以从 person 中获取。\n",
    "\n",
    "input"
   ]
  },
  {
   "cell_type": "code",
   "execution_count": null,
   "metadata": {
    "vscode": {
     "languageId": "handlebars"
    }
   },
   "outputs": [],
   "source": [
    "{\n",
    "  person: {\n",
    "    firstname: \"Yehuda\",\n",
    "    lastname: \"Katz\",\n",
    "    url: \"https://yehudakatz.com/\",\n",
    "  },\n",
    "}"
   ]
  },
  {
   "cell_type": "markdown",
   "metadata": {},
   "source": [
    "正如以下助手代码中的描述，Hash 参数可以从最后一个参数 options 获取，以用于助手代码内部的进一步处理。\n",
    "\n",
    "preparationScript"
   ]
  },
  {
   "cell_type": "code",
   "execution_count": null,
   "metadata": {
    "vscode": {
     "languageId": "handlebars"
    }
   },
   "outputs": [],
   "source": [
    "Handlebars.registerHelper(\"link\", function(text, options) {\n",
    "    var attributes = [];\n",
    "\n",
    "    Object.keys(options.hash).forEach(key => {\n",
    "        var escapedKey = Handlebars.escapeExpression(key);\n",
    "        var escapedValue = Handlebars.escapeExpression(options.hash[key]);\n",
    "        attributes.push(escapedKey + '=\"' + escapedValue + '\"');\n",
    "    })\n",
    "    var escapedText = Handlebars.escapeExpression(text);\n",
    "    \n",
    "    var escapedOutput =\"<a \" + attributes.join(\" \") + \">\" + escapedText + \"</a>\";\n",
    "    return new Handlebars.SafeString(escapedOutput);\n",
    "});"
   ]
  },
  {
   "cell_type": "markdown",
   "metadata": {},
   "source": [
    "上述助手代码产生的输出如下：\n",
    "\n",
    "output"
   ]
  },
  {
   "cell_type": "code",
   "execution_count": null,
   "metadata": {
    "vscode": {
     "languageId": "handlebars"
    }
   },
   "outputs": [],
   "source": [
    "<a class=\"person\" href=\"https://yehudakatz.com/\">See Website</a>"
   ]
  },
  {
   "cell_type": "markdown",
   "metadata": {},
   "source": [
    "Handlebars 亦提供了使用一个模版块来调用助手代码的机制。块助手代码可用于执行任意次数（包括零次）的代码块并且使用它所选择 的任意上下文。"
   ]
  },
  {
   "cell_type": "markdown",
   "metadata": {},
   "source": [
    "# 助手代码和属性查找时的消歧义\n",
    "如果助手代码注册时的名称和一个输入的属性名重复，则助手代码的优先级更高。如果你想使用输入的属性，请在其名称前加 ./ 或 this.。（或是已弃用的 this/。）\n",
    "\n",
    "template"
   ]
  },
  {
   "cell_type": "code",
   "execution_count": null,
   "metadata": {
    "vscode": {
     "languageId": "handlebars"
    }
   },
   "outputs": [],
   "source": [
    "helper: {{name}}\n",
    "data: {{./name}} or {{this/name}} or {{this.name}}"
   ]
  },
  {
   "cell_type": "markdown",
   "metadata": {},
   "source": [
    "input"
   ]
  },
  {
   "cell_type": "code",
   "execution_count": null,
   "metadata": {
    "vscode": {
     "languageId": "handlebars"
    }
   },
   "outputs": [],
   "source": [
    "{ name: \"Yehuda\" }"
   ]
  },
  {
   "cell_type": "markdown",
   "metadata": {},
   "source": [
    "preparationScript"
   ]
  },
  {
   "cell_type": "code",
   "execution_count": null,
   "metadata": {
    "vscode": {
     "languageId": "handlebars"
    }
   },
   "outputs": [],
   "source": [
    "Handlebars.registerHelper('name', function () {\n",
    "    return \"Nils\"\n",
    "})"
   ]
  },
  {
   "cell_type": "markdown",
   "metadata": {},
   "source": [
    "# 子级表达式\n",
    "Handlebars 对子级表达式提供了支持，这使你可以在单个 Mustache 模板中调用多个助手代码，并且将内部助手代码调用的返回值作为 外部助手代码的参数传递。子级表达式使用括号定界。"
   ]
  },
  {
   "cell_type": "code",
   "execution_count": null,
   "metadata": {
    "vscode": {
     "languageId": "handlebars"
    }
   },
   "outputs": [],
   "source": [
    "{{outer-helper (inner-helper 'abc') 'def'}}"
   ]
  },
  {
   "cell_type": "markdown",
   "metadata": {},
   "source": [
    "\n",
    "上例中，inner-helper 会被调用并带有字符串参数 'abc'，同时不论 inner-helper 返回了什么，返回值都将被作为第一个参数 传递给 outer-helper（同时 'def' 会作为第二个参数传递）。"
   ]
  },
  {
   "cell_type": "markdown",
   "metadata": {},
   "source": [
    "# 空格控制\n",
    "通过在括号中添加一个 ~ 字符，你可以从任何 Mustache 模板代码块的任何一侧省略模板中的空格。应用之后，该侧的所有空格将被 删除，直到第一个位于同一侧的 Handlebars 表达式或非空格字符出现。\n",
    "\n",
    "\n",
    "\n",
    "\n",
    "\n",
    "\n",
    "\n",
    "\n",
    "\n"
   ]
  },
  {
   "cell_type": "code",
   "execution_count": null,
   "metadata": {
    "vscode": {
     "languageId": "handlebars"
    }
   },
   "outputs": [],
   "source": [
    "{{#each nav ~}}\n",
    "  <a href=\"{{url}}\">\n",
    "    {{~#if test}}\n",
    "      {{~title}}\n",
    "    {{~^~}}\n",
    "      Empty\n",
    "    {{~/if~}}\n",
    "  </a>\n",
    "{{~/each}}"
   ]
  },
  {
   "cell_type": "markdown",
   "metadata": {},
   "source": [
    "以及如下内容："
   ]
  },
  {
   "cell_type": "code",
   "execution_count": null,
   "metadata": {
    "vscode": {
     "languageId": "handlebars"
    }
   },
   "outputs": [],
   "source": [
    "\n",
    "{\n",
    "  nav: [{ url: \"foo\", test: true, title: \"bar\" }, { url: \"bar\" }];\n",
    "}"
   ]
  },
  {
   "cell_type": "markdown",
   "metadata": {},
   "source": [
    "输出没有换行符并格式化了空格的结果："
   ]
  },
  {
   "cell_type": "code",
   "execution_count": null,
   "metadata": {
    "vscode": {
     "languageId": "handlebars"
    }
   },
   "outputs": [],
   "source": [
    "<a href=\"foo\">bar</a><a href=\"bar\">Empty</a>"
   ]
  },
  {
   "cell_type": "markdown",
   "metadata": {},
   "source": [
    "这扩展了「独立」助手代码（块助手代码、注释、代码片段或是空白符）在换行符时的默认行为。"
   ]
  },
  {
   "cell_type": "code",
   "execution_count": null,
   "metadata": {
    "vscode": {
     "languageId": "handlebars"
    }
   },
   "outputs": [],
   "source": [
    "{{#each nav}}\n",
    "  <a href=\"{{url}}\">\n",
    "    {{#if test}}\n",
    "      {{title}}\n",
    "    {{^}}\n",
    "      Empty\n",
    "    {{/if}}\n",
    "  </a>\n",
    "{{~/each}}"
   ]
  },
  {
   "cell_type": "markdown",
   "metadata": {},
   "source": [
    "将会渲染"
   ]
  },
  {
   "cell_type": "code",
   "execution_count": null,
   "metadata": {
    "vscode": {
     "languageId": "handlebars"
    }
   },
   "outputs": [],
   "source": [
    "<a href=\"foo\">\n",
    "  bar\n",
    "</a>\n",
    "<a href=\"bar\">\n",
    "  Empty\n",
    "</a>"
   ]
  },
  {
   "cell_type": "markdown",
   "metadata": {},
   "source": [
    "# 转义 Handlebars 表达式\n",
    "Handlebars 可以从这两种方式中的任何一种转义：「内联转义」或「RAW 块助手代码」。内联转义通过 Mustache 代码块前置 **\\** 实现 ，而 RAW 代码块通过使用 {{{{ 实现。"
   ]
  },
  {
   "cell_type": "code",
   "execution_count": null,
   "metadata": {
    "vscode": {
     "languageId": "handlebars"
    }
   },
   "outputs": [],
   "source": [
    "\\{{escaped}}\n",
    "{{{{raw}}}}\n",
    "  {{escaped}}\n",
    "{{{{/raw}}}}"
   ]
  },
  {
   "cell_type": "markdown",
   "metadata": {},
   "source": [
    "\n",
    "RAW 代码块的操作方式与其他 块助手代码 均相同，但区别在于它的子内容被 Handlebars 视为一段字符串。"
   ]
  }
 ],
 "metadata": {
  "language_info": {
   "name": "python"
  }
 },
 "nbformat": 4,
 "nbformat_minor": 2
}
