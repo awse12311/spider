{
 "cells": [
  {
   "cell_type": "markdown",
   "metadata": {},
   "source": [
    "要用 JScript 建置一個使用 ADODB.Connection 的物件導向 function 庫，並且能夠進行新增、修改、刪除、查詢操作，同時支持批次操作，以下是一個基本的實現範例。\n",
    "\n",
    "假設你的環境支持 ActiveX 物件，以下是具體步驟：\n",
    "\n",
    "設置全域變數 ConnectionString\n",
    "創建 Database 類別\n",
    "創建 executeQuery、executeNonQuery 和批次操作方法\n",
    "使用 Watch.Log 進行日誌顯示\n",
    "首先，設定全域變數 ConnectionString："
   ]
  },
  {
   "cell_type": "code",
   "execution_count": null,
   "metadata": {
    "vscode": {
     "languageId": "javascript"
    }
   },
   "outputs": [],
   "source": [
    "var ConnectionString = \"Your Connection String Here\";\n"
   ]
  },
  {
   "cell_type": "markdown",
   "metadata": {},
   "source": [
    "接下來，創建 Database 類別："
   ]
  },
  {
   "cell_type": "code",
   "execution_count": null,
   "metadata": {
    "vscode": {
     "languageId": "javascript"
    }
   },
   "outputs": [],
   "source": [
    "function Database() {\n",
    "    try {\n",
    "        this.connection = new ActiveXObject(\"ADODB.Connection\");\n",
    "        this.connection.ConnectionString = ConnectionString;\n",
    "        this.connection.Open();\n",
    "        this.log(\"Database connection opened.\", 3);\n",
    "    } catch (e) {\n",
    "        this.log(\"Error opening database connection: \" + e.message, 1);\n",
    "    }\n",
    "}\n",
    "\n",
    "Database.prototype.close = function() {\n",
    "    try {\n",
    "        this.connection.Close();\n",
    "        this.log(\"Database connection closed.\", 3);\n",
    "    } catch (e) {\n",
    "        this.log(\"Error closing database connection: \" + e.message, 1);\n",
    "    }\n",
    "};\n",
    "\n",
    "Database.prototype.log = function(message, level) {\n",
    "    Watch.Log(message, level);\n",
    "};\n"
   ]
  },
  {
   "cell_type": "markdown",
   "metadata": {},
   "source": [
    "創建新增、修改、刪除、查詢的方法："
   ]
  },
  {
   "cell_type": "code",
   "execution_count": null,
   "metadata": {
    "vscode": {
     "languageId": "javascript"
    }
   },
   "outputs": [],
   "source": [
    "Database.prototype.executeQuery = function(query) {\n",
    "    var rs = new ActiveXObject(\"ADODB.Recordset\");\n",
    "    rs.Open(query, this.connection);\n",
    "    var results = [];\n",
    "    while (!rs.EOF) {\n",
    "        var result = {};\n",
    "        for (var i = 0; i < rs.Fields.Count; i++) {\n",
    "            result[rs.Fields(i).Name] = rs.Fields(i).Value;\n",
    "        }\n",
    "        results.push(result);\n",
    "        rs.MoveNext();\n",
    "    }\n",
    "    rs.Close();\n",
    "    this.log(\"Query executed: \" + query, 3);\n",
    "    return results;\n",
    "};\n",
    "\n",
    "Database.prototype.executeNonQuery = function(query) {\n",
    "    var cmd = new ActiveXObject(\"ADODB.Command\");\n",
    "    cmd.ActiveConnection = this.connection;\n",
    "    cmd.CommandText = query;\n",
    "    cmd.Execute();\n",
    "    this.log(\"NonQuery executed: \" + query, 3);\n",
    "};\n",
    "\n",
    "Database.prototype.insert = function(table, data) {\n",
    "    var keys = [], values = [];\n",
    "    for (var key in data) {\n",
    "        keys.push(key);\n",
    "        values.push(\"'\" + data[key] + \"'\");\n",
    "    }\n",
    "    var query = \"INSERT INTO \" + table + \" (\" + keys.join(\", \") + \") VALUES (\" + values.join(\", \") + \")\";\n",
    "    this.executeNonQuery(query);\n",
    "};\n",
    "\n",
    "Database.prototype.update = function(table, data, where) {\n",
    "    var set = [];\n",
    "    for (var key in data) {\n",
    "        set.push(key + \"='\" + data[key] + \"'\");\n",
    "    }\n",
    "    var query = \"UPDATE \" + table + \" SET \" + set.join(\", \") + \" WHERE \" + where;\n",
    "    this.executeNonQuery(query);\n",
    "};\n",
    "\n",
    "Database.prototype.delete = function(table, where) {\n",
    "    var query = \"DELETE FROM \" + table + \" WHERE \" + where;\n",
    "    this.executeNonQuery(query);\n",
    "};\n"
   ]
  },
  {
   "cell_type": "markdown",
   "metadata": {},
   "source": [
    "創建批次操作的方法："
   ]
  },
  {
   "cell_type": "code",
   "execution_count": null,
   "metadata": {
    "vscode": {
     "languageId": "javascript"
    }
   },
   "outputs": [],
   "source": [
    "Database.prototype.batchInsert = function(table, dataArray) {\n",
    "    for (var i = 0; i < dataArray.length; i++) {\n",
    "        this.insert(table, dataArray[i]);\n",
    "    }\n",
    "};\n",
    "\n",
    "Database.prototype.batchUpdate = function(table, dataArray, whereArray) {\n",
    "    for (var i = 0; i < dataArray.length; i++) {\n",
    "        this.update(table, dataArray[i], whereArray[i]);\n",
    "    }\n",
    "};\n",
    "\n",
    "Database.prototype.batchDelete = function(table, whereArray) {\n",
    "    for (var i = 0; i < whereArray.length; i++) {\n",
    "        this.delete(table, whereArray[i]);\n",
    "    }\n",
    "};\n"
   ]
  },
  {
   "cell_type": "code",
   "execution_count": null,
   "metadata": {
    "vscode": {
     "languageId": "javascript"
    }
   },
   "outputs": [],
   "source": [
    "\n",
    "Database.prototype.executeQuery = function(query) {\n",
    "    try {\n",
    "        var rs = new ActiveXObject(\"ADODB.Recordset\");\n",
    "        rs.Open(query, this.connection);\n",
    "        var results = [];\n",
    "        while (!rs.EOF) {\n",
    "            var result = {};\n",
    "            for (var i = 0; i < rs.Fields.Count; i++) {\n",
    "                result[rs.Fields(i).Name] = rs.Fields(i).Value;\n",
    "            }\n",
    "            results.push(result);\n",
    "            rs.MoveNext();\n",
    "        }\n",
    "        rs.Close();\n",
    "        this.log(\"Query executed: \" + query, 3);\n",
    "        return results;\n",
    "    } catch (e) {\n",
    "        this.log(\"Error executing query: \" + e.message + \" Query: \" + query, 1);\n",
    "        return [];\n",
    "    }\n",
    "};\n",
    "\n",
    "Database.prototype.executeNonQuery = function(query) {\n",
    "    try {\n",
    "        var cmd = new ActiveXObject(\"ADODB.Command\");\n",
    "        cmd.ActiveConnection = this.connection;\n",
    "        cmd.CommandText = query;\n",
    "        cmd.Execute();\n",
    "        this.log(\"NonQuery executed: \" + query, 3);\n",
    "    } catch (e) {\n",
    "        this.log(\"Error executing nonQuery: \" + e.message + \" Query: \" + query, 1);\n",
    "    }\n",
    "};\n",
    "\n",
    "Database.prototype.insert = function(table, data) {\n",
    "    try {\n",
    "        var keys = [], values = [];\n",
    "        for (var key in data) {\n",
    "            keys.push(key);\n",
    "            values.push(\"'\" + data[key] + \"'\");\n",
    "        }\n",
    "        var query = \"INSERT INTO \" + table + \" (\" + keys.join(\", \") + \") VALUES (\" + values.join(\", \") + \")\";\n",
    "        this.executeNonQuery(query);\n",
    "    } catch (e) {\n",
    "        this.log(\"Error inserting data: \" + e.message + \" Data: \" + JSON.stringify(data), 1);\n",
    "    }\n",
    "};\n",
    "\n",
    "Database.prototype.update = function(table, data, where) {\n",
    "    try {\n",
    "        var set = [];\n",
    "        for (var key in data) {\n",
    "            set.push(key + \"='\" + data[key] + \"'\");\n",
    "        }\n",
    "        var query = \"UPDATE \" + table + \" SET \" + set.join(\", \") + \" WHERE \" + where;\n",
    "        this.executeNonQuery(query);\n",
    "    } catch (e) {\n",
    "        this.log(\"Error updating data: \" + e.message + \" Data: \" + JSON.stringify(data) + \" Where: \" + where, 1);\n",
    "    }\n",
    "};\n",
    "\n",
    "Database.prototype.delete = function(table, where) {\n",
    "    try {\n",
    "        var query = \"DELETE FROM \" + table + \" WHERE \" + where;\n",
    "        this.executeNonQuery(query);\n",
    "    } catch (e) {\n",
    "        this.log(\"Error deleting data: \" + e.message + \" Where: \" + where, 1);\n",
    "    }\n",
    "};\n",
    "\n",
    "Database.prototype.batchInsert = function(table, dataArray) {\n",
    "    for (var i = 0; i < dataArray.length; i++) {\n",
    "        this.insert(table, dataArray[i]);\n",
    "    }\n",
    "};\n",
    "\n",
    "Database.prototype.batchUpdate = function(table, dataArray, whereArray) {\n",
    "    for (var i = 0; i < dataArray.length; i++) {\n",
    "        this.update(table, dataArray[i], whereArray[i]);\n",
    "    }\n",
    "};\n",
    "\n",
    "Database.prototype.batchDelete = function(table, whereArray) {\n",
    "    for (var i = 0; i < whereArray.length; i++) {\n",
    "        this.delete(table, whereArray[i]);\n",
    "    }\n",
    "};\n",
    "\n"
   ]
  },
  {
   "cell_type": "markdown",
   "metadata": {},
   "source": [
    "\n",
    "要使用上述的 Database 類別來執行資料庫操作，你可以按照以下步驟進行。以下是一些具體的使用範例，包括創建 Database 對象，進行新增、修改、刪除、查詢操作，以及批次操作。\n",
    "\n",
    "首先，確保你已經設置了正確的 ConnectionString。\n",
    "\n",
    "## 1. 創建 Database 物件"
   ]
  },
  {
   "cell_type": "code",
   "execution_count": null,
   "metadata": {
    "vscode": {
     "languageId": "javascript"
    }
   },
   "outputs": [],
   "source": [
    "var db = new Database();"
   ]
  },
  {
   "cell_type": "markdown",
   "metadata": {},
   "source": [
    "## 2. 執行查詢操作\n",
    "假設你有一個名為 Users 的表格，並希望查詢所有記錄："
   ]
  },
  {
   "cell_type": "code",
   "execution_count": null,
   "metadata": {
    "vscode": {
     "languageId": "javascript"
    }
   },
   "outputs": [],
   "source": [
    "var results = db.executeQuery(\"SELECT * FROM Users\");\n",
    "for (var i = 0; i < results.length; i++) {\n",
    "    Watch.Log(\"User: \" + results[i].Name, 3);  // 假設 Users 表格有一個名為 Name 的欄位\n",
    "}\n"
   ]
  },
  {
   "cell_type": "markdown",
   "metadata": {},
   "source": [
    "## 3. 新增操作\n",
    "向 Users 表格插入一條新記錄："
   ]
  },
  {
   "cell_type": "code",
   "execution_count": null,
   "metadata": {
    "vscode": {
     "languageId": "javascript"
    }
   },
   "outputs": [],
   "source": [
    "var newUser = {\n",
    "    Name: \"John Doe\",\n",
    "    Age: 30,\n",
    "    Email: \"john.doe@example.com\"\n",
    "};\n",
    "db.insert(\"Users\", newUser);\n"
   ]
  },
  {
   "cell_type": "markdown",
   "metadata": {},
   "source": [
    "## 4. 修改操作\n",
    "更新 Users 表格中某個用戶的年齡："
   ]
  },
  {
   "cell_type": "code",
   "execution_count": null,
   "metadata": {
    "vscode": {
     "languageId": "javascript"
    }
   },
   "outputs": [],
   "source": [
    "var updateUser = {\n",
    "    Age: 31\n",
    "};\n",
    "var whereClause = \"Name='John Doe'\";\n",
    "db.update(\"Users\", updateUser, whereClause);\n"
   ]
  },
  {
   "cell_type": "markdown",
   "metadata": {},
   "source": [
    "## 5. 刪除操作\n",
    "刪除 Users 表格中某個用戶："
   ]
  },
  {
   "cell_type": "code",
   "execution_count": null,
   "metadata": {
    "vscode": {
     "languageId": "javascript"
    }
   },
   "outputs": [],
   "source": [
    "var whereClause = \"Name='John Doe'\";\n",
    "db.delete(\"Users\", whereClause);\n"
   ]
  },
  {
   "cell_type": "markdown",
   "metadata": {},
   "source": [
    "## 6. 批次新增操作\n",
    "批次插入多條記錄到 Users 表格："
   ]
  },
  {
   "cell_type": "code",
   "execution_count": null,
   "metadata": {
    "vscode": {
     "languageId": "javascript"
    }
   },
   "outputs": [],
   "source": [
    "var usersArray = [\n",
    "    { Name: \"Alice Smith\", Age: 25, Email: \"alice.smith@example.com\" },\n",
    "    { Name: \"Bob Johnson\", Age: 28, Email: \"bob.johnson@example.com\" }\n",
    "];\n",
    "db.batchInsert(\"Users\", usersArray);\n"
   ]
  },
  {
   "cell_type": "markdown",
   "metadata": {},
   "source": [
    "## 7. 批次修改操作\n",
    "批次更新 Users 表格中的記錄："
   ]
  },
  {
   "cell_type": "code",
   "execution_count": null,
   "metadata": {
    "vscode": {
     "languageId": "javascript"
    }
   },
   "outputs": [],
   "source": [
    "var usersUpdateArray = [\n",
    "    { Age: 26 },\n",
    "    { Age: 29 }\n",
    "];\n",
    "var whereArray = [\n",
    "    \"Name='Alice Smith'\",\n",
    "    \"Name='Bob Johnson'\"\n",
    "];\n",
    "db.batchUpdate(\"Users\", usersUpdateArray, whereArray);\n"
   ]
  },
  {
   "cell_type": "markdown",
   "metadata": {},
   "source": [
    "## 8. 批次刪除操作\n",
    "批次刪除 Users 表格中的記錄："
   ]
  },
  {
   "cell_type": "code",
   "execution_count": null,
   "metadata": {
    "vscode": {
     "languageId": "javascript"
    }
   },
   "outputs": [],
   "source": [
    "var whereArray = [\n",
    "    \"Name='Alice Smith'\",\n",
    "    \"Name='Bob Johnson'\"\n",
    "];\n",
    "db.batchDelete(\"Users\", whereArray);\n"
   ]
  },
  {
   "cell_type": "markdown",
   "metadata": {},
   "source": [
    "## 9. 關閉資料庫連接\n",
    "在操作完成後，請確保關閉資料庫連接："
   ]
  },
  {
   "cell_type": "code",
   "execution_count": null,
   "metadata": {
    "vscode": {
     "languageId": "javascript"
    }
   },
   "outputs": [],
   "source": [
    "db.close();\n"
   ]
  },
  {
   "cell_type": "markdown",
   "metadata": {},
   "source": [
    "為了更好地進行除錯，我們可以在每個函數中添加 try-catch 塊來捕獲和處理異常，並使用 Watch.Log 方法來記錄錯誤信息。這樣可以幫助我們更快地找到和解決問題。\n",
    "\n",
    "以下是加入除錯功能的 Database 類別："
   ]
  },
  {
   "cell_type": "code",
   "execution_count": null,
   "metadata": {
    "vscode": {
     "languageId": "javascript"
    }
   },
   "outputs": [],
   "source": [
    "var db = new Database();\n",
    "\n",
    "try {\n",
    "    // 查詢操作\n",
    "    var results = db.executeQuery(\"SELECT * FROM Users\");\n",
    "    for (var i = 0; i < results.length; i++) {\n",
    "        Watch.Log(\"User: \" + results[i].Name, 3);  // 假設 Users 表格有一個名為 Name 的欄位\n",
    "    }\n",
    "\n",
    "    // 新增操作\n",
    "    var newUser = {\n",
    "        Name: \"John Doe\",\n",
    "        Age: 30,\n",
    "        Email: \"john.doe@example.com\"\n",
    "    };\n",
    "    db.insert(\"Users\", newUser);\n",
    "\n",
    "    // 修改操作\n",
    "    var updateUser = {\n",
    "        Age: 31\n",
    "    };\n",
    "    var whereClause = \"Name='John Doe'\";\n",
    "    db.update(\"Users\", updateUser, whereClause);\n",
    "\n",
    "    // 刪除操作\n",
    "    var whereClause = \"Name='John Doe'\";\n",
    "    db.delete(\"Users\", whereClause);\n",
    "\n",
    "    // 批次新增操作\n",
    "    var usersArray = [\n",
    "        { Name: \"Alice Smith\", Age: 25, Email: \"alice.smith@example.com\" },\n",
    "        { Name: \"Bob Johnson\", Age: 28, Email: \"bob.johnson@example.com\" }\n",
    "    ];\n",
    "    db.batchInsert(\"Users\", usersArray);\n",
    "\n",
    "    // 批次修改操作\n",
    "    var usersUpdateArray = [\n",
    "        { Age: 26 },\n",
    "        { Age: 29 }\n",
    "    ];\n",
    "    var whereArray = [\n",
    "        \"Name='Alice Smith'\",\n",
    "        \"Name='Bob Johnson'\"\n",
    "    ];\n",
    "    db.batchUpdate(\"Users\", usersUpdateArray, whereArray);\n",
    "\n",
    "    // 批次刪除操作\n",
    "    var whereArray = [\n",
    "        \"Name='Alice Smith'\",\n",
    "        \"Name='Bob Johnson'\"\n",
    "    ];\n",
    "    db.batchDelete(\"Users\", whereArray);\n",
    "\n",
    "} catch (e) {\n",
    "    Watch.Log(\"An unexpected error occurred: \" + e.message, 1);\n",
    "} finally {\n",
    "    db.close();\n",
    "}\n"
   ]
  },
  {
   "cell_type": "markdown",
   "metadata": {},
   "source": [
    "## insertAndGetId"
   ]
  },
  {
   "cell_type": "code",
   "execution_count": null,
   "metadata": {
    "vscode": {
     "languageId": "javascript"
    }
   },
   "outputs": [],
   "source": [
    "\n",
    "Database.prototype.insertAndGetId = function(insertQuery) {\n",
    "    try {\n",
    "        // 插入數據\n",
    "        this.executeNonQuery(insertQuery);\n",
    "\n",
    "        // 獲取新插入數據的ID\n",
    "        var idQuery = \"SELECT SCOPE_IDENTITY() AS NewId\";\n",
    "        var result = this.executeQuery(idQuery);\n",
    "        if (result.length > 0) {\n",
    "            return result[0].NewId;\n",
    "        } else {\n",
    "            this.log(\"無法獲取新插入數據的ID。\", 1);\n",
    "            return null;\n",
    "        }\n",
    "    } catch (e) {\n",
    "        this.log(\"插入數據並獲取ID時出錯：\" + e.message, 1);\n",
    "        return null;\n",
    "    }\n",
    "};\n"
   ]
  },
  {
   "cell_type": "code",
   "execution_count": null,
   "metadata": {
    "vscode": {
     "languageId": "javascript"
    }
   },
   "outputs": [],
   "source": [
    "\n",
    "Database.prototype.updateAndGetId = function(table, whereClaus, identifier) {\n",
    "    try {\n",
    "        // 執行更新操作\n",
    "        this.executeNonQuery(updateQuery);\n",
    "\n",
    "        // 獲取剛剛更新的資料的ID，假設identifier是唯一標識符\n",
    "        var idQuery = \"SELECT id FROM \"+table+\" WHERE \"+whereClaus+\";\";\n",
    "        var result = this.executeQuery(idQuery);\n",
    "        if (result.length > 0) {\n",
    "            return result[0].id;\n",
    "        } else {\n",
    "            this.log(\"無法獲取更新後的資料ID。\", 1);\n",
    "            return null;\n",
    "        }\n",
    "    } catch (e) {\n",
    "        this.log(\"更新資料並獲取ID時出錯：\" + e.message, 1);\n",
    "        return null;\n",
    "    }\n",
    "};"
   ]
  },
  {
   "cell_type": "code",
   "execution_count": null,
   "metadata": {
    "vscode": {
     "languageId": "javascript"
    }
   },
   "outputs": [],
   "source": [
    "// 使用示例\n",
    "var db = new Database();\n",
    "\n",
    "try {\n",
    "    db.openConnection();\n",
    "\n",
    "    var updateQuery = \"UPDATE Users SET Age = 31 WHERE Name = 'John Doe'\";\n",
    "    var updatedId = db.updateAndGetId(updateQuery, 'John Doe');\n",
    "    if (updatedId !== null) {\n",
    "        Watch.Log(\"更新後資料的ID：\" + updatedId, 3);\n",
    "    }\n",
    "\n",
    "} catch (e) {\n",
    "    Watch.Log(\"發生意外錯誤：\" + e.message, 1);\n",
    "} finally {\n",
    "    db.closeConnection();\n",
    "}"
   ]
  },
  {
   "cell_type": "code",
   "execution_count": null,
   "metadata": {
    "vscode": {
     "languageId": "javascript"
    }
   },
   "outputs": [],
   "source": [
    "\n",
    "Database.prototype.executeQuery = function(query, params) {\n",
    "    try {\n",
    "        var cmd = new ActiveXObject(\"ADODB.Command\");\n",
    "        cmd.ActiveConnection = this.connection;\n",
    "        cmd.CommandText = query;\n",
    "        cmd.CommandType = 4; // adCmdStoredProc\n",
    "        if (params) {\n",
    "            for (var i = 0; i < params.length; i++) {\n",
    "                cmd.Parameters.Append(cmd.CreateParameter(params[i].name, params[i].type, 1, params[i].size, params[i].value));\n",
    "            }\n",
    "        }\n",
    "        var rs = cmd.Execute();\n",
    "        var results = [];\n",
    "        while (!rs.EOF) {\n",
    "            var result = {};\n",
    "            for (var i = 0; i < rs.Fields.Count; i++) {\n",
    "                result[rs.Fields(i).Name] = rs.Fields(i).Value;\n",
    "            }\n",
    "            results.push(result);\n",
    "            rs.MoveNext();\n",
    "        }\n",
    "        rs.Close();\n",
    "        this.log(\"已執行查詢：\" + query, 3);\n",
    "        return results;\n",
    "    } catch (e) {\n",
    "        this.log(\"執行查詢時出錯：\" + e.message + \" 查詢：\" + query, 1);\n",
    "        return [];\n",
    "    }\n",
    "};\n",
    "\n",
    "Database.prototype.executeNonQuery = function(query, params) {\n",
    "    try {\n",
    "        var cmd = new ActiveXObject(\"ADODB.Command\");\n",
    "        cmd.ActiveConnection = this.connection;\n",
    "        cmd.CommandText = query;\n",
    "        cmd.CommandType = 4; // adCmdStoredProc\n",
    "        if (params) {\n",
    "            for (var i = 0; i < params.length; i++) {\n",
    "                cmd.Parameters.Append(cmd.CreateParameter(params[i].name, params[i].type, 1, params[i].size, params[i].value));\n",
    "            }\n",
    "        }\n",
    "        cmd.Execute();\n",
    "        this.log(\"已執行非查詢語句：\" + query, 3);\n",
    "    } catch (e) {\n",
    "        this.log(\"執行非查詢語句時出錯：\" + e.message + \" 語句：\" + query, 1);\n",
    "    }\n",
    "};"
   ]
  }
 ],
 "metadata": {
  "language_info": {
   "name": "python"
  }
 },
 "nbformat": 4,
 "nbformat_minor": 2
}
