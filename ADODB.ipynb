{
 "cells": [
  {
   "cell_type": "markdown",
   "metadata": {},
   "source": [
    "要用 JScript 建置一個使用 ADODB.Connection 的物件導向 function 庫，並且能夠進行新增、修改、刪除、查詢操作，同時支持批次操作，以下是一個基本的實現範例。\n",
    "\n",
    "假設你的環境支持 ActiveX 物件，以下是具體步驟：\n",
    "\n",
    "設置全域變數 ConnectionString\n",
    "創建 Database 類別\n",
    "創建 executeQuery、executeNonQuery 和批次操作方法\n",
    "使用 Watch.Log 進行日誌顯示\n",
    "首先，設定全域變數 ConnectionString："
   ]
  },
  {
   "cell_type": "code",
   "execution_count": null,
   "metadata": {
    "vscode": {
     "languageId": "javascript"
    }
   },
   "outputs": [],
   "source": [
    "var ConnectionString = \"Your Connection String Here\";\n"
   ]
  },
  {
   "cell_type": "markdown",
   "metadata": {},
   "source": [
    "接下來，創建 Database 類別："
   ]
  },
  {
   "cell_type": "code",
   "execution_count": null,
   "metadata": {
    "vscode": {
     "languageId": "javascript"
    }
   },
   "outputs": [],
   "source": [
    "function Database() {\n",
    "    this.connection = new ActiveXObject(\"ADODB.Connection\");\n",
    "    this.connection.ConnectionString = ConnectionString;\n",
    "    this.connection.Open();\n",
    "}\n",
    "\n",
    "Database.prototype.close = function() {\n",
    "    this.connection.Close();\n",
    "};\n",
    "\n",
    "Database.prototype.log = function(message, level) {\n",
    "    Watch.Log(message, level);\n",
    "};\n"
   ]
  },
  {
   "cell_type": "markdown",
   "metadata": {},
   "source": [
    "創建新增、修改、刪除、查詢的方法："
   ]
  },
  {
   "cell_type": "code",
   "execution_count": null,
   "metadata": {
    "vscode": {
     "languageId": "javascript"
    }
   },
   "outputs": [],
   "source": [
    "Database.prototype.executeQuery = function(query) {\n",
    "    var rs = new ActiveXObject(\"ADODB.Recordset\");\n",
    "    rs.Open(query, this.connection);\n",
    "    var results = [];\n",
    "    while (!rs.EOF) {\n",
    "        var result = {};\n",
    "        for (var i = 0; i < rs.Fields.Count; i++) {\n",
    "            result[rs.Fields(i).Name] = rs.Fields(i).Value;\n",
    "        }\n",
    "        results.push(result);\n",
    "        rs.MoveNext();\n",
    "    }\n",
    "    rs.Close();\n",
    "    this.log(\"Query executed: \" + query, 3);\n",
    "    return results;\n",
    "};\n",
    "\n",
    "Database.prototype.executeNonQuery = function(query) {\n",
    "    var cmd = new ActiveXObject(\"ADODB.Command\");\n",
    "    cmd.ActiveConnection = this.connection;\n",
    "    cmd.CommandText = query;\n",
    "    cmd.Execute();\n",
    "    this.log(\"NonQuery executed: \" + query, 3);\n",
    "};\n",
    "\n",
    "Database.prototype.insert = function(table, data) {\n",
    "    var keys = [], values = [];\n",
    "    for (var key in data) {\n",
    "        keys.push(key);\n",
    "        values.push(\"'\" + data[key] + \"'\");\n",
    "    }\n",
    "    var query = \"INSERT INTO \" + table + \" (\" + keys.join(\", \") + \") VALUES (\" + values.join(\", \") + \")\";\n",
    "    this.executeNonQuery(query);\n",
    "};\n",
    "\n",
    "Database.prototype.update = function(table, data, where) {\n",
    "    var set = [];\n",
    "    for (var key in data) {\n",
    "        set.push(key + \"='\" + data[key] + \"'\");\n",
    "    }\n",
    "    var query = \"UPDATE \" + table + \" SET \" + set.join(\", \") + \" WHERE \" + where;\n",
    "    this.executeNonQuery(query);\n",
    "};\n",
    "\n",
    "Database.prototype.delete = function(table, where) {\n",
    "    var query = \"DELETE FROM \" + table + \" WHERE \" + where;\n",
    "    this.executeNonQuery(query);\n",
    "};\n"
   ]
  },
  {
   "cell_type": "markdown",
   "metadata": {},
   "source": [
    "創建批次操作的方法："
   ]
  },
  {
   "cell_type": "code",
   "execution_count": null,
   "metadata": {
    "vscode": {
     "languageId": "javascript"
    }
   },
   "outputs": [],
   "source": [
    "Database.prototype.batchInsert = function(table, dataArray) {\n",
    "    for (var i = 0; i < dataArray.length; i++) {\n",
    "        this.insert(table, dataArray[i]);\n",
    "    }\n",
    "};\n",
    "\n",
    "Database.prototype.batchUpdate = function(table, dataArray, whereArray) {\n",
    "    for (var i = 0; i < dataArray.length; i++) {\n",
    "        this.update(table, dataArray[i], whereArray[i]);\n",
    "    }\n",
    "};\n",
    "\n",
    "Database.prototype.batchDelete = function(table, whereArray) {\n",
    "    for (var i = 0; i < whereArray.length; i++) {\n",
    "        this.delete(table, whereArray[i]);\n",
    "    }\n",
    "};\n"
   ]
  },
  {
   "cell_type": "code",
   "execution_count": null,
   "metadata": {
    "vscode": {
     "languageId": "javascript"
    }
   },
   "outputs": [],
   "source": [
    "var ConnectionString = \"Your Connection String Here\";\n",
    "\n",
    "function Database() {\n",
    "    this.connection = new ActiveXObject(\"ADODB.Connection\");\n",
    "    this.connection.ConnectionString = ConnectionString;\n",
    "    this.connection.Open();\n",
    "}\n",
    "\n",
    "Database.prototype.close = function() {\n",
    "    this.connection.Close();\n",
    "};\n",
    "\n",
    "Database.prototype.log = function(message, level) {\n",
    "    Watch.Log(message, level);\n",
    "};\n",
    "\n",
    "Database.prototype.executeQuery = function(query) {\n",
    "    var rs = new ActiveXObject(\"ADODB.Recordset\");\n",
    "    rs.Open(query, this.connection);\n",
    "    var results = [];\n",
    "    while (!rs.EOF) {\n",
    "        var result = {};\n",
    "        for (var i = 0; i < rs.Fields.Count; i++) {\n",
    "            result[rs.Fields(i).Name] = rs.Fields(i).Value;\n",
    "        }\n",
    "        results.push(result);\n",
    "        rs.MoveNext();\n",
    "    }\n",
    "    rs.Close();\n",
    "    this.log(\"Query executed: \" + query, 3);\n",
    "    return results;\n",
    "};\n",
    "\n",
    "Database.prototype.executeNonQuery = function(query) {\n",
    "    var cmd = new ActiveXObject(\"ADODB.Command\");\n",
    "    cmd.ActiveConnection = this.connection;\n",
    "    cmd.CommandText = query;\n",
    "    cmd.Execute();\n",
    "    this.log(\"NonQuery executed: \" + query, 3);\n",
    "};\n",
    "\n",
    "Database.prototype.insert = function(table, data) {\n",
    "    var keys = [], values = [];\n",
    "    for (var key in data) {\n",
    "        keys.push(key);\n",
    "        values.push(\"'\" + data[key] + \"'\");\n",
    "    }\n",
    "    var query = \"INSERT INTO \" + table + \" (\" + keys.join(\", \") + \") VALUES (\" + values.join(\", \") + \")\";\n",
    "    this.executeNonQuery(query);\n",
    "};\n",
    "\n",
    "Database.prototype.update = function(table, data, where) {\n",
    "    var set = [];\n",
    "    for (var key in data) {\n",
    "        set.push(key + \"='\" + data[key] + \"'\");\n",
    "    }\n",
    "    var query = \"UPDATE \" + table + \" SET \" + set.join(\", \") + \" WHERE \" + where;\n",
    "    this.executeNonQuery(query);\n",
    "};\n",
    "\n",
    "Database.prototype.delete = function(table, where) {\n",
    "    var query = \"DELETE FROM \" + table + \" WHERE \" + where;\n",
    "    this.executeNonQuery(query);\n",
    "};\n",
    "\n",
    "Database.prototype.batchInsert = function(table, dataArray) {\n",
    "    for (var i = 0; i < dataArray.length; i++) {\n",
    "        this.insert(table, dataArray[i]);\n",
    "    }\n",
    "};\n",
    "\n",
    "Database.prototype.batchUpdate = function(table, dataArray, whereArray) {\n",
    "    for (var i = 0; i < dataArray.length; i++) {\n",
    "        this.update(table, dataArray[i], whereArray[i]);\n",
    "    }\n",
    "};\n",
    "\n",
    "Database.prototype.batchDelete = function(table, whereArray) {\n",
    "    for (var i = 0; i < whereArray.length; i++) {\n",
    "        this.delete(table, whereArray[i]);\n",
    "    }\n",
    "};\n"
   ]
  }
 ],
 "metadata": {
  "language_info": {
   "name": "python"
  }
 },
 "nbformat": 4,
 "nbformat_minor": 2
}
