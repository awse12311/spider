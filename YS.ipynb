{
 "cells": [
  {
   "cell_type": "code",
   "execution_count": null,
   "metadata": {
    "vscode": {
     "languageId": "javascript"
    }
   },
   "outputs": [],
   "source": [
    "// 获取要删除空文件夹的父文件夹路径，假设本地变量名为 ParentFolderPath\n",
    "var parentFolderPath = WScript.CreateObject(\"Scripting.FileSystemObject\").GetStandardStream(0).ReadToEnd();\n",
    "\n",
    "// 创建文件系统对象\n",
    "var fso = new ActiveXObject(\"Scripting.FileSystemObject\");\n",
    "\n",
    "// 定义删除空文件夹的函数\n",
    "function deleteEmptyFolders(folderPath) {\n",
    "    var folder = fso.GetFolder(folderPath);\n",
    "    var subFolders = new Enumerator(folder.SubFolders);\n",
    "    for (; !subFolders.atEnd(); subFolders.moveNext()) {\n",
    "        var subFolder = subFolders.item();\n",
    "        deleteEmptyFolders(subFolder.Path); // 递归调用，处理子文件夹\n",
    "    }\n",
    "    // 删除空文件夹\n",
    "    if (folder.SubFolders.Count === 0 && folder.Files.Count === 0) {\n",
    "        fso.DeleteFolder(folder.Path);\n",
    "        WScript.Echo(\"已删除空文件夹：\" + folder.Path);\n",
    "    }\n",
    "}\n",
    "\n",
    "// 调用函数删除空文件夹\n",
    "deleteEmptyFolders(parentFolderPath);\n"
   ]
  }
 ],
 "metadata": {
  "language_info": {
   "name": "python"
  }
 },
 "nbformat": 4,
 "nbformat_minor": 2
}
