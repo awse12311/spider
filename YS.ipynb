{
 "cells": [
  {
   "cell_type": "code",
   "execution_count": null,
   "metadata": {
    "vscode": {
     "languageId": "javascript"
    }
   },
   "outputs": [],
   "source": [
    "\n",
    "var parentFolderPath = \"C:\\\\Users\\\\mark.chang\\\\Documents\\\\Project\\\\YS\\\\test_out\\\\Step1\\\\\";\n",
    "\n",
    "var fso = new ActiveXObject(\"Scripting.FileSystemObject\");\n",
    "\n",
    "\n",
    "\n",
    "function deleteEmptyFolders(folderPath) {\n",
    "    var folder = fso.GetFolder(folderPath);\n",
    "    var subFolders = new Enumerator(folder.SubFolders);\n",
    "    for (; !subFolders.atEnd(); subFolders.moveNext()) {\n",
    "        var subFolder = subFolders.item();\n",
    "        deleteEmptyFolders(subFolder.Path);\n",
    "    }\n",
    "\n",
    "    if (folder.SubFolders.Count === 0 && folder.Files.Count === 0) {\n",
    "        fso.DeleteFolder(folder.Path);\n",
    "        Watch.Log(\"Deleted from\" + folder.Path,3);\n",
    "    }\n",
    "}\n",
    "\n",
    "deleteEmptyFolders(parentFolderPath);\n"
   ]
  }
 ],
 "metadata": {
  "language_info": {
   "name": "python"
  }
 },
 "nbformat": 4,
 "nbformat_minor": 2
}
