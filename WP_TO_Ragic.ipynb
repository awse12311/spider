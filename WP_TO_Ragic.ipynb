{
 "cells": [
  {
   "cell_type": "code",
   "execution_count": null,
   "metadata": {},
   "outputs": [],
   "source": []
  },
  {
   "cell_type": "markdown",
   "metadata": {},
   "source": [
    "使用 WordPress 的 wp_insert_post 鉤子來捕獲下單事件，並使用 wp_remote_post 函數來發送資料到 Ragic API。\n",
    "\n",
    "步驟 1：建立 Ragic 表格並取得 API 金鑰\n",
    "\n",
    "在 Ragic 中建立一個新的表格，設置好相應的欄位，以存儲下單資料。然後，生成一個 API 金鑰，以便 WordPress 能夠通過 API 來訪問你的 Ragic 資料庫。\n",
    "\n",
    "步驟 2：建立 WordPress 下單表單\n",
    "\n",
    "使用 WordPress 的表單外掛（例如 Contact Form 7、WPForms 等）來建立一個下單表單。在表單中包括你需要收集的所有資料，例如客戶姓名、地址、產品訂單等。\n",
    "\n",
    "步驟 3：編輯 functions.php 檔案\n",
    "\n",
    "在你的 WordPress 主題中，打開 functions.php 檔案，將下列程式碼添加到檔案末尾："
   ]
  },
  {
   "cell_type": "code",
   "execution_count": null,
   "metadata": {
    "vscode": {
     "languageId": "php"
    }
   },
   "outputs": [],
   "source": [
    "// 監聽 WooCommerce 下單事件\n",
    "add_action('woocommerce_checkout_order_processed', 'send_data_to_ragic');\n",
    "\n",
    "function send_data_to_ragic($order_id) {\n",
    "    // 獲取訂單資料\n",
    "    $order = wc_get_order($order_id);\n",
    "    \n",
    "    // 處理訂單資料，構建要發送到 Ragic 的資料\n",
    "    $data = array(\n",
    "        'field1' => $order->get_billing_first_name(),\n",
    "        'field2' => $order->get_billing_last_name(),\n",
    "        // 其他需要的資料\n",
    "    );\n",
    "\n",
    "    // 發送資料到 Ragic API\n",
    "    $response = wp_remote_post('https://api.ragic.com/your_api_endpoint', array(\n",
    "        'method' => 'POST',\n",
    "        'body' => $data,\n",
    "        'headers' => array(\n",
    "            'Authorization' => 'Bearer YOUR_API_KEY',\n",
    "        ),\n",
    "    ));\n",
    "\n",
    "    // 檢查回應是否成功\n",
    "    if (is_wp_error($response)) {\n",
    "        $error_message = $response->get_error_message();\n",
    "        // 處理錯誤\n",
    "    } else {\n",
    "        // 處理成功\n",
    "    }\n",
    "}\n"
   ]
  }
 ],
 "metadata": {
  "language_info": {
   "name": "python"
  }
 },
 "nbformat": 4,
 "nbformat_minor": 2
}
